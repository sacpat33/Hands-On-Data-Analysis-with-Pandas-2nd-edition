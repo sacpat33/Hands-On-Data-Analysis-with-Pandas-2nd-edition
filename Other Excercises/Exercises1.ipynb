{
 "cells": [
  {
   "cell_type": "markdown",
   "id": "5c138957-bdde-4e7b-9aad-253041032bb4",
   "metadata": {},
   "source": [
    "1. Write a Pandas program to create and display a one-dimensional array-like object containing an array of data using Pandas module."
   ]
  },
  {
   "cell_type": "code",
   "execution_count": 1,
   "id": "193bb615-6be2-4644-8c15-75eac4ec39fc",
   "metadata": {},
   "outputs": [
    {
     "data": {
      "text/plain": [
       "0    0\n",
       "1    1\n",
       "2    2\n",
       "3    3\n",
       "4    4\n",
       "5    5\n",
       "6    6\n",
       "7    7\n",
       "8    8\n",
       "9    9\n",
       "Name: nSeries, dtype: int64"
      ]
     },
     "execution_count": 1,
     "metadata": {},
     "output_type": "execute_result"
    }
   ],
   "source": [
    "import pandas as pd \n",
    "import numpy as np\n",
    "from copy import deepcopy\n",
    "\n",
    "pd.Series(list(range(0,10)), name= 'nSeries')\n"
   ]
  },
  {
   "cell_type": "markdown",
   "id": "58ffe58c-8365-49c6-b345-13b64710498d",
   "metadata": {},
   "source": [
    "2. Write a Pandas program to convert a Panda module Series to Python list and it's type"
   ]
  },
  {
   "cell_type": "code",
   "execution_count": 2,
   "id": "36f656ba-9421-4f68-b5c6-7ce3509d1c35",
   "metadata": {},
   "outputs": [
    {
     "data": {
      "text/plain": [
       "[0, 1, 2, 3, 4, 5, 6, 7, 8, 9]"
      ]
     },
     "execution_count": 2,
     "metadata": {},
     "output_type": "execute_result"
    }
   ],
   "source": [
    "pd.Series(list(range(0,10)), name= 'nSeries').to_list()"
   ]
  },
  {
   "cell_type": "markdown",
   "id": "54484917",
   "metadata": {},
   "source": [
    "3. Write a Pandas program to add, subtract, multiple and divide two Pandas Series.\n",
    "Sample Series: [2, 4, 6, 8, 10], [1, 3, 5, 7, 9]"
   ]
  },
  {
   "cell_type": "code",
   "execution_count": 3,
   "id": "3e220c16",
   "metadata": {},
   "outputs": [
    {
     "name": "stdout",
     "output_type": "stream",
     "text": [
      "0     3\n",
      "1     7\n",
      "2    11\n",
      "3    15\n",
      "4    19\n",
      "dtype: int64 0    1\n",
      "1    1\n",
      "2    1\n",
      "3    1\n",
      "4    1\n",
      "dtype: int64 0     2\n",
      "1    12\n",
      "2    30\n",
      "3    56\n",
      "4    90\n",
      "dtype: int64 0    2.000000\n",
      "1    1.333333\n",
      "2    1.200000\n",
      "3    1.142857\n",
      "4    1.111111\n",
      "dtype: float64\n"
     ]
    }
   ],
   "source": [
    "a = pd.Series([2, 4, 6, 8, 10]) + pd.Series([1, 3, 5, 7, 9])\n",
    "b = pd.Series([2, 4, 6, 8, 10]) - pd.Series([1, 3, 5, 7, 9])\n",
    "c = pd.Series([2, 4, 6, 8, 10]) * pd.Series([1, 3, 5, 7, 9])\n",
    "d = pd.Series([2, 4, 6, 8, 10]) / pd.Series([1, 3, 5, 7, 9])\n",
    "\n",
    "print(a,b,c,d)"
   ]
  },
  {
   "cell_type": "markdown",
   "id": "aaf5b0c9",
   "metadata": {},
   "source": [
    "4. Write a Pandas program to compare the elements of the two Pandas Series.\n",
    "Sample Series: [2, 4, 6, 8, 10], [1, 3, 5, 7, 10]"
   ]
  },
  {
   "cell_type": "code",
   "execution_count": 4,
   "id": "75928822",
   "metadata": {},
   "outputs": [
    {
     "name": "stdout",
     "output_type": "stream",
     "text": [
      "0    False\n",
      "1    False\n",
      "2    False\n",
      "3    False\n",
      "4    False\n",
      "dtype: bool\n",
      "0    True\n",
      "1    True\n",
      "2    True\n",
      "3    True\n",
      "4    True\n",
      "dtype: bool\n",
      "0    False\n",
      "1    False\n",
      "2    False\n",
      "3    False\n",
      "4    False\n",
      "dtype: bool\n",
      "0    True\n",
      "1    True\n",
      "2    True\n",
      "3    True\n",
      "4    True\n",
      "dtype: bool\n"
     ]
    }
   ],
   "source": [
    "a = pd.Series([2, 4, 6, 8, 10])\n",
    "b = pd.Series([1, 3, 5, 7, 9])\n",
    "print(a == b)\n",
    "print(a > b)\n",
    "print(a < b)\n",
    "print(a != b)"
   ]
  },
  {
   "cell_type": "markdown",
   "id": "22d4bef3",
   "metadata": {},
   "source": [
    "Write a Pandas program to convert a dictionary to a Pandas series.\n",
    "\n",
    "''' Sample Series: \n",
    "Original dictionary:\n",
    "{'a': 100, 'b': 200, 'c': 300, 'd': 400, 'e': 800}\n",
    "\n",
    "Converted series:\n",
    "a    100\n",
    "b    200\n",
    "c    300\n",
    "d    400\n",
    "e    800\n",
    "dtype: int64\n",
    "''' \n",
    "\n"
   ]
  },
  {
   "cell_type": "code",
   "execution_count": 5,
   "id": "4038fc8c",
   "metadata": {},
   "outputs": [
    {
     "data": {
      "text/plain": [
       "a    100\n",
       "b    200\n",
       "c    300\n",
       "d    400\n",
       "e    800\n",
       "dtype: int64"
      ]
     },
     "execution_count": 5,
     "metadata": {},
     "output_type": "execute_result"
    }
   ],
   "source": [
    "pd.Series({'a': 100, 'b': 200, 'c': 300, 'd': 400, 'e': 800})"
   ]
  },
  {
   "cell_type": "markdown",
   "id": "84ede0c8",
   "metadata": {},
   "source": [
    "6. Write a Pandas program to convert a NumPy array to a Pandas series.\n",
    "\n",
    "{{Sample Series: \n",
    "  NumPy array:\n",
    "[10 20 30 40 50]\n",
    "Converted Pandas series:\n",
    "0    10\n",
    "1    20\n",
    "2    30\n",
    "3    40\n",
    "4    50\n",
    "dtype: int64 \n",
    "}}"
   ]
  },
  {
   "cell_type": "code",
   "execution_count": 6,
   "id": "aa5b447c",
   "metadata": {},
   "outputs": [
    {
     "data": {
      "text/plain": [
       "0    10\n",
       "1    20\n",
       "2    30\n",
       "3    40\n",
       "4    50\n",
       "dtype: int32"
      ]
     },
     "execution_count": 6,
     "metadata": {},
     "output_type": "execute_result"
    }
   ],
   "source": [
    "pd.Series(np.array([10, 20, 30, 40, 50]))"
   ]
  },
  {
   "cell_type": "markdown",
   "id": "fbbfc8d6",
   "metadata": {},
   "source": [
    "Write a Pandas program to change the data type of given a column or a Series."
   ]
  },
  {
   "cell_type": "code",
   "execution_count": 7,
   "id": "51a78f16",
   "metadata": {},
   "outputs": [
    {
     "data": {
      "text/plain": [
       "0    100.00\n",
       "1    200.00\n",
       "2       NaN\n",
       "3    300.12\n",
       "4    400.00\n",
       "dtype: float64"
      ]
     },
     "execution_count": 7,
     "metadata": {},
     "output_type": "execute_result"
    }
   ],
   "source": [
    "s1 = pd.Series(['100', '200', 'python', '300.12', '400'])\n",
    "s1.dtype\n",
    "s2 = pd.to_numeric(s1, errors='coerce')\n",
    "s2"
   ]
  },
  {
   "cell_type": "markdown",
   "id": "c858fc7e",
   "metadata": {},
   "source": [
    "10. Write a Pandas program to convert Series of lists to one Series."
   ]
  },
  {
   "cell_type": "code",
   "execution_count": 8,
   "id": "7e879f37",
   "metadata": {},
   "outputs": [
    {
     "data": {
      "text/plain": [
       "0       Red\n",
       "1     Green\n",
       "2     White\n",
       "3       Red\n",
       "4     Black\n",
       "5    Yellow\n",
       "dtype: object"
      ]
     },
     "execution_count": 8,
     "metadata": {},
     "output_type": "execute_result"
    }
   ],
   "source": [
    "s = pd.Series([\n",
    "    ['Red', 'Green', 'White'],\n",
    "    ['Red', 'Black'],\n",
    "    ['Yellow']])\n",
    "\n",
    "s.apply(pd.Series).stack().reset_index(drop=True)"
   ]
  },
  {
   "cell_type": "markdown",
   "id": "bacc39ca",
   "metadata": {},
   "source": [
    "12. Write a Pandas program to add some data to an existing Series."
   ]
  },
  {
   "cell_type": "code",
   "execution_count": 9,
   "id": "feeea2e9",
   "metadata": {},
   "outputs": [
    {
     "data": {
      "text/plain": [
       "0       100\n",
       "1       200\n",
       "2    python\n",
       "3    300.12\n",
       "4       400\n",
       "0       500\n",
       "1       PHP\n",
       "dtype: object"
      ]
     },
     "execution_count": 9,
     "metadata": {},
     "output_type": "execute_result"
    }
   ],
   "source": [
    "s = pd.Series(['100', '200', 'python', '300.12', '400'])\n",
    "pd.concat([s,pd.Series(['500', 'PHP'])])"
   ]
  },
  {
   "cell_type": "markdown",
   "id": "2a6a9c05",
   "metadata": {},
   "source": [
    "13. Write a Pandas program to create a subset of a given series based on value and condition."
   ]
  },
  {
   "cell_type": "code",
   "execution_count": 10,
   "id": "c777be23",
   "metadata": {},
   "outputs": [
    {
     "data": {
      "text/plain": [
       "0    0\n",
       "1    1\n",
       "2    2\n",
       "3    3\n",
       "4    4\n",
       "5    5\n",
       "dtype: int64"
      ]
     },
     "execution_count": 10,
     "metadata": {},
     "output_type": "execute_result"
    }
   ],
   "source": [
    "s = pd.Series([0,1,2,3,4,5,6,7,8,9,10])\n",
    "\n",
    "s = s[s<6]\n",
    "s"
   ]
  },
  {
   "cell_type": "markdown",
   "id": "f71eba95",
   "metadata": {},
   "source": [
    "14. Write a Pandas program to change the order of index of a given series."
   ]
  },
  {
   "cell_type": "code",
   "execution_count": 11,
   "id": "e8ced38b",
   "metadata": {},
   "outputs": [
    {
     "data": {
      "text/plain": [
       "B    2\n",
       "A    1\n",
       "C    3\n",
       "D    4\n",
       "E    5\n",
       "dtype: int64"
      ]
     },
     "execution_count": 11,
     "metadata": {},
     "output_type": "execute_result"
    }
   ],
   "source": [
    "s = pd.Series(data = [1,2,3,4,5], index = ['A', 'B', 'C','D','E'])\n",
    "s\n",
    "s.reindex(index=['B','A', 'C', 'D', 'E'])"
   ]
  },
  {
   "cell_type": "markdown",
   "id": "48724b97",
   "metadata": {},
   "source": [
    "15. Write a Pandas program to create the mean and standard deviation of the data of a given Series."
   ]
  },
  {
   "cell_type": "code",
   "execution_count": 12,
   "id": "0680f078",
   "metadata": {},
   "outputs": [
    {
     "name": "stdout",
     "output_type": "stream",
     "text": [
      "mean: 4.818181818181818 \n",
      " std: 2.522624895547565\n"
     ]
    }
   ],
   "source": [
    "s = pd.Series(data = [1,2,3,4,5,6,7,8,9,5,3])\n",
    "s\n",
    "print('mean:', s.mean(), '\\n std:', s.std())"
   ]
  },
  {
   "cell_type": "markdown",
   "id": "ef5b60af-fbcc-43cc-84d1-c82fdefe4150",
   "metadata": {},
   "source": [
    "16. Write a Pandas program to get the items of a given series not present in another given series."
   ]
  },
  {
   "cell_type": "code",
   "execution_count": 13,
   "id": "6d380b70-d4db-4c83-8ea1-8ae18ea64674",
   "metadata": {},
   "outputs": [
    {
     "data": {
      "text/plain": [
       "0    1\n",
       "2    3\n",
       "4    5\n",
       "dtype: int64"
      ]
     },
     "execution_count": 13,
     "metadata": {},
     "output_type": "execute_result"
    }
   ],
   "source": [
    "sr1 = pd.Series([1, 2, 3, 4, 5])\n",
    "sr2 = pd.Series([2, 4, 6, 8, 10])\n",
    "\n",
    "sr1[~sr1.isin(sr2)]"
   ]
  },
  {
   "cell_type": "markdown",
   "id": "dadc106a-8464-4f67-ac17-f717fa9ab630",
   "metadata": {},
   "source": [
    "17. Write a Pandas program to get the items which are not common of two given series."
   ]
  },
  {
   "cell_type": "code",
   "execution_count": 14,
   "id": "3694dbca-8560-40af-b900-05a2fe22e4a3",
   "metadata": {},
   "outputs": [
    {
     "data": {
      "text/plain": [
       "0     1\n",
       "2     3\n",
       "4     5\n",
       "5     6\n",
       "6     8\n",
       "7    10\n",
       "dtype: int64"
      ]
     },
     "execution_count": 14,
     "metadata": {},
     "output_type": "execute_result"
    }
   ],
   "source": [
    "sr1 = pd.Series([1, 2, 3, 4, 5])\n",
    "sr2 = pd.Series([2, 4, 6, 8, 10])\n",
    "\n",
    "sr11 = pd.Series(np.union1d(sr1, sr2))\n",
    "sr22 = pd.Series(np.intersect1d(sr1, sr2))\n",
    "\n",
    "sr11[~ sr11.isin(sr22)]"
   ]
  },
  {
   "cell_type": "markdown",
   "id": "3e4c8cbb-8c92-4db8-8ef2-b4bc1d5441bc",
   "metadata": {},
   "source": [
    "18. Write a Pandas program to compute the minimum, 25th percentile, median, 75th, and maximum of a given series."
   ]
  },
  {
   "cell_type": "code",
   "execution_count": 15,
   "id": "a7893614-6aa9-43bf-92ad-1be9ad06194f",
   "metadata": {},
   "outputs": [
    {
     "data": {
      "text/plain": [
       "array([ 3.00093811,  8.09463867, 10.23353705, 12.21537733, 14.61214321])"
      ]
     },
     "execution_count": 15,
     "metadata": {},
     "output_type": "execute_result"
    }
   ],
   "source": [
    "num_series = pd.Series(np.random.RandomState(100).normal(10, 4, 20))\n",
    "np.percentile(num_series,[0, 25, 50, 75, 100])"
   ]
  },
  {
   "cell_type": "markdown",
   "id": "76435295-2986-4c2c-b321-ab7353307af2",
   "metadata": {},
   "source": [
    "19. Write a Pandas program to calculate the frequency counts of each unique value of a given series."
   ]
  },
  {
   "cell_type": "code",
   "execution_count": 16,
   "id": "f01ed665-e7d8-47fb-8468-2ad4c3629d15",
   "metadata": {},
   "outputs": [
    {
     "data": {
      "text/plain": [
       "5    7\n",
       "3    7\n",
       "1    6\n",
       "2    4\n",
       "9    4\n",
       "6    3\n",
       "8    3\n",
       "4    3\n",
       "7    2\n",
       "0    1\n",
       "Name: count, dtype: int64"
      ]
     },
     "execution_count": 16,
     "metadata": {},
     "output_type": "execute_result"
    }
   ],
   "source": [
    "num_series = pd.Series(np.take(list('0123456789'), np.random.randint(10, size=40)))\n",
    "num_series.value_counts()"
   ]
  },
  {
   "cell_type": "markdown",
   "id": "63ff0045-0f24-4ebc-bb6a-6665a2a84b86",
   "metadata": {},
   "source": [
    "20. Write a Pandas program to display most frequent value in a given series and replace everything else as 'Other' in the series.\n"
   ]
  },
  {
   "cell_type": "code",
   "execution_count": 17,
   "id": "3424f1b2-20c1-4660-89cb-df533708d5bc",
   "metadata": {},
   "outputs": [
    {
     "name": "stderr",
     "output_type": "stream",
     "text": [
      "C:\\Users\\1015894\\AppData\\Local\\Temp\\ipykernel_20968\\4033178407.py:3: FutureWarning: Setting an item of incompatible dtype is deprecated and will raise in a future error of pandas. Value 'others' has dtype incompatible with int32, please explicitly cast to a compatible dtype first.\n",
      "  num_series[~ (num_series == num_series.value_counts().index[0])] = 'others'\n"
     ]
    },
    {
     "data": {
      "text/plain": [
       "0          3\n",
       "1          3\n",
       "2          3\n",
       "3          3\n",
       "4     others\n",
       "5     others\n",
       "6     others\n",
       "7     others\n",
       "8          3\n",
       "9     others\n",
       "10    others\n",
       "11         3\n",
       "12    others\n",
       "13         3\n",
       "14    others\n",
       "dtype: object"
      ]
     },
     "execution_count": 17,
     "metadata": {},
     "output_type": "execute_result"
    }
   ],
   "source": [
    "num_series = pd.Series(np.random.randint(1, 5, [15]))\n",
    "num_series1 = deepcopy(num_series)\n",
    "num_series[~ (num_series == num_series.value_counts().index[0])] = 'others'\n",
    "num_series"
   ]
  },
  {
   "cell_type": "code",
   "execution_count": 18,
   "id": "9ad0809b-63d6-48ca-836e-a39fb2df05af",
   "metadata": {},
   "outputs": [
    {
     "name": "stderr",
     "output_type": "stream",
     "text": [
      "C:\\Users\\1015894\\AppData\\Local\\Temp\\ipykernel_20968\\11584179.py:1: FutureWarning: Setting an item of incompatible dtype is deprecated and will raise in a future error of pandas. Value 'Other' has dtype incompatible with int32, please explicitly cast to a compatible dtype first.\n",
      "  num_series1[~num_series1.isin(num_series1.value_counts().index[:1])] = 'Other'\n"
     ]
    },
    {
     "data": {
      "text/plain": [
       "0         3\n",
       "1         3\n",
       "2         3\n",
       "3         3\n",
       "4     Other\n",
       "5     Other\n",
       "6     Other\n",
       "7     Other\n",
       "8         3\n",
       "9     Other\n",
       "10    Other\n",
       "11        3\n",
       "12    Other\n",
       "13        3\n",
       "14    Other\n",
       "dtype: object"
      ]
     },
     "execution_count": 18,
     "metadata": {},
     "output_type": "execute_result"
    }
   ],
   "source": [
    "num_series1[~num_series1.isin(num_series1.value_counts().index[:1])] = 'Other'\n",
    "num_series1"
   ]
  },
  {
   "cell_type": "markdown",
   "id": "f33555ba-2868-4f51-b958-8275d660327f",
   "metadata": {},
   "source": [
    "21. Write a Pandas program to find the positions of numbers that are multiples of 5 of a given series."
   ]
  },
  {
   "cell_type": "code",
   "execution_count": 19,
   "id": "70d3e3b6-02b3-4b81-9400-54e92349e8ee",
   "metadata": {},
   "outputs": [
    {
     "data": {
      "text/plain": [
       "1    5\n",
       "dtype: int32"
      ]
     },
     "execution_count": 19,
     "metadata": {},
     "output_type": "execute_result"
    }
   ],
   "source": [
    "num_series = pd.Series(np.random.randint(1, 10, 9))\n",
    "num_series[num_series % 5 == 0]"
   ]
  },
  {
   "cell_type": "markdown",
   "id": "0492bee5-8b53-4fa0-ab71-f3b2305d813d",
   "metadata": {},
   "source": [
    "22. Write a Pandas program to extract items at given positions of a given series."
   ]
  },
  {
   "cell_type": "code",
   "execution_count": 20,
   "id": "4a37db8c-ce66-4ca8-9a85-32e7f1d46ba8",
   "metadata": {},
   "outputs": [
    {
     "data": {
      "text/plain": [
       "0     2\n",
       "2     9\n",
       "6     8\n",
       "11    0\n",
       "21    3\n",
       "dtype: object"
      ]
     },
     "execution_count": 20,
     "metadata": {},
     "output_type": "execute_result"
    }
   ],
   "source": [
    "num_series = pd.Series(list('2390238923902390239023'))\n",
    "element_pos = [0, 2, 6, 11, 21]\n",
    "num_series[element_pos]"
   ]
  },
  {
   "cell_type": "markdown",
   "id": "9d13d459-4642-4293-bbc1-e63528c36fae",
   "metadata": {},
   "source": [
    "23. Write a Pandas program to get the positions of items of a given series in another given series."
   ]
  },
  {
   "cell_type": "code",
   "execution_count": 21,
   "id": "4e93e708-db6c-43b8-8d26-4f37e4f48c29",
   "metadata": {},
   "outputs": [
    {
     "data": {
      "text/plain": [
       "[0, 2, 4, 6, 9]"
      ]
     },
     "execution_count": 21,
     "metadata": {},
     "output_type": "execute_result"
    }
   ],
   "source": [
    "series1 = pd.Series([1, 2, 3, 4, 5, 6, 7, 8, 9, 10])\n",
    "series2 = pd.Series([1, 3, 5, 7, 10])\n",
    "[pd.Index(series1).get_loc(i) for i in series2]"
   ]
  },
  {
   "cell_type": "markdown",
   "id": "d25dfebf-680c-41ca-90ab-6fd7788486e6",
   "metadata": {},
   "source": [
    "24. Write a Pandas program convert the first and last character of each word to upper case in each word of a given series."
   ]
  },
  {
   "cell_type": "code",
   "execution_count": 22,
   "id": "945482c4-f7bf-41dd-b6a2-eb6a87e15163",
   "metadata": {},
   "outputs": [
    {
     "data": {
      "text/plain": [
       "0       PhP\n",
       "1    PythoN\n",
       "2      JavA\n",
       "3        C#\n",
       "dtype: object"
      ]
     },
     "execution_count": 22,
     "metadata": {},
     "output_type": "execute_result"
    }
   ],
   "source": [
    "series1 = pd.Series(['php', 'python', 'java', 'c#'])\n",
    "series1.apply(lambda x: x[0].upper() + x[1:-1] + x[-1].upper())"
   ]
  },
  {
   "cell_type": "markdown",
   "id": "1d2cc483-d0b6-4745-97fb-2fdd2b18a624",
   "metadata": {},
   "source": [
    "25. Write a Pandas program to calculate the number of characters in each word in a given series"
   ]
  },
  {
   "cell_type": "code",
   "execution_count": 23,
   "id": "92fe5645-75a9-4380-ac86-72c2bbb4f393",
   "metadata": {},
   "outputs": [
    {
     "data": {
      "text/plain": [
       "0    3\n",
       "1    6\n",
       "2    4\n",
       "3    2\n",
       "dtype: int64"
      ]
     },
     "execution_count": 23,
     "metadata": {},
     "output_type": "execute_result"
    }
   ],
   "source": [
    "series1 = pd.Series(['Php', 'Python', 'Java', 'C#'])\n",
    "series1.apply(lambda x: len(x))"
   ]
  },
  {
   "cell_type": "markdown",
   "id": "a820a4cf-9ec8-4ad2-a8ab-f2b1e02fbbe6",
   "metadata": {},
   "source": [
    "26. Write a Pandas program to compute difference of differences between consecutive numbers of a given series."
   ]
  },
  {
   "cell_type": "code",
   "execution_count": 24,
   "id": "37a3d598-0d46-41c1-bd03-e6279d5fc58d",
   "metadata": {},
   "outputs": [
    {
     "data": {
      "text/plain": [
       "0    NaN\n",
       "1    2.0\n",
       "2    2.0\n",
       "3    3.0\n",
       "4    2.0\n",
       "5    1.0\n",
       "6    4.0\n",
       "dtype: float64"
      ]
     },
     "execution_count": 24,
     "metadata": {},
     "output_type": "execute_result"
    }
   ],
   "source": [
    "series1 = pd.Series([1, 3, 5, 8, 10, 11, 15])\n",
    "series1.diff()"
   ]
  },
  {
   "cell_type": "markdown",
   "id": "5a9a844c-2130-4844-9af6-d6096df34a81",
   "metadata": {},
   "source": [
    "27. Write a Pandas program to convert a series of date strings to a timeseries."
   ]
  },
  {
   "cell_type": "code",
   "execution_count": 25,
   "id": "4ad14ad5-0a5a-4ac7-970f-ab8f30f997f2",
   "metadata": {},
   "outputs": [
    {
     "data": {
      "text/plain": [
       "0   2015-01-01\n",
       "1          NaT\n",
       "2          NaT\n",
       "3          NaT\n",
       "4          NaT\n",
       "5          NaT\n",
       "dtype: datetime64[ns]"
      ]
     },
     "execution_count": 25,
     "metadata": {},
     "output_type": "execute_result"
    }
   ],
   "source": [
    "date_series = pd.Series(['01 Jan 2015', '10-02-2016', '20180307', '2014/05/06', '2016-04-12', '2019-04-06T11:20'])\n",
    "pd.to_datetime(date_series, errors='coerce')"
   ]
  },
  {
   "cell_type": "markdown",
   "id": "dcbf419e-eadc-40b1-a1cb-3451b76189ea",
   "metadata": {},
   "source": [
    "29. Write a Pandas program to convert year-month string to dates adding a specified day of the month."
   ]
  },
  {
   "cell_type": "code",
   "execution_count": 26,
   "id": "f621160f-02c1-4795-bca8-fecd44db9558",
   "metadata": {},
   "outputs": [
    {
     "data": {
      "text/plain": [
       "0   2015-01-11\n",
       "1   2016-02-11\n",
       "2   2017-03-11\n",
       "3   2018-04-11\n",
       "4   2019-05-11\n",
       "dtype: datetime64[ns]"
      ]
     },
     "execution_count": 26,
     "metadata": {},
     "output_type": "execute_result"
    }
   ],
   "source": [
    "date_series = pd.Series(['Jan 2015', 'Feb 2016', 'Mar 2017', 'Apr 2018', 'May 2019'])\n",
    "pd.to_datetime(date_series.apply(lambda x: '11' + x))"
   ]
  },
  {
   "cell_type": "markdown",
   "id": "4d69fdf8-0315-46d4-a7d0-5918f2fd87eb",
   "metadata": {},
   "source": [
    "30. Write a Pandas program to filter words from a given series that contain atleast two vowels."
   ]
  },
  {
   "cell_type": "code",
   "execution_count": 27,
   "id": "fe22d516-6919-486a-9b41-a2a8d2e5007b",
   "metadata": {},
   "outputs": [
    {
     "data": {
      "text/plain": [
       "0    False\n",
       "1     True\n",
       "2     True\n",
       "3    False\n",
       "4     True\n",
       "5     True\n",
       "dtype: bool"
      ]
     },
     "execution_count": 27,
     "metadata": {},
     "output_type": "execute_result"
    }
   ],
   "source": [
    "from collections import Counter\n",
    "color_series = pd.Series(['Red', 'Green', 'Orange', 'Pink', 'Yellow', 'White'])\n",
    "color_series.map(lambda c: sum([Counter(c.lower()).get(i, 0) for i in list('aeiou')]) >= 2)\n"
   ]
  },
  {
   "cell_type": "markdown",
   "id": "5b72d194-bdcc-4d9a-93e0-cd038655b27b",
   "metadata": {},
   "source": [
    "31. Write a Pandas program to compute the Euclidean distance between two given series.\r\n",
    "Euclidean distance\r\n",
    "From Wikipedia,\r\n",
    "In mathematics, the Euclidean distance or Euclidean metric is the \"ordinary\" straight-line distance between two points in Euclidean space. With this distance, Euclidean space becomes a metric space. The associated norm is called the Euclidean norm."
   ]
  },
  {
   "cell_type": "code",
   "execution_count": 31,
   "id": "7fd6adda-2701-4ee5-b3a9-8b0dc3b69d2b",
   "metadata": {},
   "outputs": [
    {
     "data": {
      "text/plain": [
       "16.492422502470642"
      ]
     },
     "execution_count": 31,
     "metadata": {},
     "output_type": "execute_result"
    }
   ],
   "source": [
    "x = pd.Series([1, 2, 3, 4, 5, 6, 7, 8, 9, 10])\n",
    "y = pd.Series([11, 8, 7, 5, 6, 5, 3, 4, 7, 1])\n",
    "\n",
    "np.linalg.norm(x-y)"
   ]
  },
  {
   "cell_type": "markdown",
   "id": "1dbbda0d-4ebe-40bc-a735-fc51d21da64f",
   "metadata": {},
   "source": [
    "32. Write a Pandas program to find the positions of the values neighboured by smaller values on both sides in a given series."
   ]
  },
  {
   "cell_type": "code",
   "execution_count": 59,
   "id": "a08f1ad7-f4ed-4114-8b9d-627e4e9ebdf7",
   "metadata": {},
   "outputs": [
    {
     "data": {
      "text/plain": [
       "array([1, 4, 8], dtype=int64)"
      ]
     },
     "execution_count": 59,
     "metadata": {},
     "output_type": "execute_result"
    }
   ],
   "source": [
    "nums = pd.Series([1, 8, 7, 5, 6, 5, 3, 4, 7, 1])\n",
    "tem = np.diff(np.sign(np.diff(nums)))\n",
    "np.where(tem == -2)[0] +1"
   ]
  },
  {
   "cell_type": "markdown",
   "id": "18eef563-2c9e-4014-aea4-0194fee0e33c",
   "metadata": {},
   "source": [
    "33. Write a Pandas program to replace missing white spaces in a given string with the least frequent character."
   ]
  },
  {
   "cell_type": "code",
   "execution_count": 80,
   "id": "4ec0d2ca-fde8-4cbc-8f42-5aee030efa09",
   "metadata": {},
   "outputs": [
    {
     "data": {
      "text/plain": [
       "'abcidefiabcdefiicd'"
      ]
     },
     "execution_count": 80,
     "metadata": {},
     "output_type": "execute_result"
    }
   ],
   "source": [
    "str1 = 'abc def abcdef icd'\n",
    "ser = pd.Series(list(str1))\n",
    "element_freq = ser.value_counts()\n",
    "cf = element_freq.dropna().index[-1]\n",
    "\n",
    "''.join(ser.replace(\" \", cf))"
   ]
  },
  {
   "cell_type": "markdown",
   "id": "8ccb5a3a-ab38-4722-b330-d1fe5ae1092a",
   "metadata": {},
   "source": [
    "34. Write a Pandas program to compute the autocorrelations of a given numeric series.\r\n",
    "From Wikipedia:\r\n",
    "Autocorrelation, also known as serial correlation, is the correlation of a signal with a delayed copy of itself as a function of delay. Informally, it is the similarity between observations as a function of the time lag between them."
   ]
  },
  {
   "cell_type": "code",
   "execution_count": 111,
   "id": "31615077-2f9f-470b-bb35-154214a84881",
   "metadata": {},
   "outputs": [
    {
     "data": {
      "text/plain": [
       "[1.0, -0.11, -0.18, 0.22, -0.05, 0.5, -0.33, -0.41, 0.57, 0.01, 0.46]"
      ]
     },
     "execution_count": 111,
     "metadata": {},
     "output_type": "execute_result"
    }
   ],
   "source": [
    "num_series = pd.Series(np.arange(15) + np.random.normal(1, 10, 15))\n",
    "[num_series.autocorr(i).round(2) for i in range(11)]"
   ]
  },
  {
   "cell_type": "markdown",
   "id": "875d59dd-7067-4517-bdb2-763358090caa",
   "metadata": {},
   "source": [
    "35. Write a Pandas program to create a TimeSeries to display all the Sundays of given year."
   ]
  },
  {
   "cell_type": "code",
   "execution_count": 118,
   "id": "5758fcb8-efde-4880-bfb7-4374fa56c2e1",
   "metadata": {},
   "outputs": [
    {
     "data": {
      "text/plain": [
       "DatetimeIndex(['2020-01-05', '2020-01-12', '2020-01-19', '2020-01-26',\n",
       "               '2020-02-02', '2020-02-09', '2020-02-16', '2020-02-23',\n",
       "               '2020-03-01', '2020-03-08', '2020-03-15', '2020-03-22',\n",
       "               '2020-03-29', '2020-04-05', '2020-04-12', '2020-04-19',\n",
       "               '2020-04-26', '2020-05-03', '2020-05-10', '2020-05-17',\n",
       "               '2020-05-24', '2020-05-31', '2020-06-07', '2020-06-14',\n",
       "               '2020-06-21', '2020-06-28', '2020-07-05', '2020-07-12',\n",
       "               '2020-07-19', '2020-07-26', '2020-08-02', '2020-08-09',\n",
       "               '2020-08-16', '2020-08-23', '2020-08-30', '2020-09-06',\n",
       "               '2020-09-13', '2020-09-20', '2020-09-27', '2020-10-04',\n",
       "               '2020-10-11', '2020-10-18', '2020-10-25', '2020-11-01',\n",
       "               '2020-11-08', '2020-11-15', '2020-11-22', '2020-11-29',\n",
       "               '2020-12-06', '2020-12-13', '2020-12-20', '2020-12-27'],\n",
       "              dtype='datetime64[ns]', freq='W-SUN')"
      ]
     },
     "execution_count": 118,
     "metadata": {},
     "output_type": "execute_result"
    }
   ],
   "source": [
    "pd.date_range('2020-01-01', '2020-12-31', freq='W-SUN')"
   ]
  },
  {
   "cell_type": "markdown",
   "id": "c30d9bf4-2876-409c-bd68-3522070f76b9",
   "metadata": {},
   "source": [
    "36. Write a Pandas program to convert given series into a dataframe with its index as another column on the dataframe."
   ]
  },
  {
   "cell_type": "code",
   "execution_count": 129,
   "id": "aa653afd-8328-48b6-9422-36dc25561314",
   "metadata": {},
   "outputs": [
    {
     "data": {
      "text/html": [
       "<div>\n",
       "<style scoped>\n",
       "    .dataframe tbody tr th:only-of-type {\n",
       "        vertical-align: middle;\n",
       "    }\n",
       "\n",
       "    .dataframe tbody tr th {\n",
       "        vertical-align: top;\n",
       "    }\n",
       "\n",
       "    .dataframe thead th {\n",
       "        text-align: right;\n",
       "    }\n",
       "</style>\n",
       "<table border=\"1\" class=\"dataframe\">\n",
       "  <thead>\n",
       "    <tr style=\"text-align: right;\">\n",
       "      <th></th>\n",
       "      <th>index</th>\n",
       "      <th>0</th>\n",
       "    </tr>\n",
       "  </thead>\n",
       "  <tbody>\n",
       "    <tr>\n",
       "      <th>0</th>\n",
       "      <td>A</td>\n",
       "      <td>0</td>\n",
       "    </tr>\n",
       "    <tr>\n",
       "      <th>1</th>\n",
       "      <td>B</td>\n",
       "      <td>1</td>\n",
       "    </tr>\n",
       "    <tr>\n",
       "      <th>2</th>\n",
       "      <td>C</td>\n",
       "      <td>2</td>\n",
       "    </tr>\n",
       "    <tr>\n",
       "      <th>3</th>\n",
       "      <td>D</td>\n",
       "      <td>3</td>\n",
       "    </tr>\n",
       "    <tr>\n",
       "      <th>4</th>\n",
       "      <td>E</td>\n",
       "      <td>4</td>\n",
       "    </tr>\n",
       "    <tr>\n",
       "      <th>5</th>\n",
       "      <td>F</td>\n",
       "      <td>5</td>\n",
       "    </tr>\n",
       "    <tr>\n",
       "      <th>6</th>\n",
       "      <td>G</td>\n",
       "      <td>6</td>\n",
       "    </tr>\n",
       "    <tr>\n",
       "      <th>7</th>\n",
       "      <td>H</td>\n",
       "      <td>7</td>\n",
       "    </tr>\n",
       "  </tbody>\n",
       "</table>\n",
       "</div>"
      ],
      "text/plain": [
       "  index  0\n",
       "0     A  0\n",
       "1     B  1\n",
       "2     C  2\n",
       "3     D  3\n",
       "4     E  4\n",
       "5     F  5\n",
       "6     G  6\n",
       "7     H  7"
      ]
     },
     "execution_count": 129,
     "metadata": {},
     "output_type": "execute_result"
    }
   ],
   "source": [
    "char_list = list('ABCDEFGHIJKLMNOP')\n",
    "num_arr = np.arange(8)\n",
    "num_dict = dict(zip(char_list, num_arr))\n",
    "num_series = pd.Series(num_dict)\n",
    "num_series.to_frame().reset_index()"
   ]
  },
  {
   "cell_type": "markdown",
   "id": "c4c3180e-fa70-4cb9-8948-69c185ac4c01",
   "metadata": {},
   "source": [
    "37. Write a Pandas program to stack two given series vertically and horizontally."
   ]
  },
  {
   "cell_type": "code",
   "execution_count": 137,
   "id": "00314312-1e11-4f0d-9979-f407b0b06c4d",
   "metadata": {},
   "outputs": [
    {
     "data": {
      "text/plain": [
       "0    0\n",
       "1    1\n",
       "2    2\n",
       "3    3\n",
       "4    4\n",
       "5    5\n",
       "6    6\n",
       "7    7\n",
       "8    8\n",
       "9    9\n",
       "0    p\n",
       "1    q\n",
       "2    r\n",
       "3    s\n",
       "4    t\n",
       "5    u\n",
       "6    v\n",
       "7    w\n",
       "8    x\n",
       "9    y\n",
       "dtype: object"
      ]
     },
     "execution_count": 137,
     "metadata": {},
     "output_type": "execute_result"
    }
   ],
   "source": [
    "series1 = pd.Series(range(10))\n",
    "series2 = pd.Series(list('pqrstuvwxy'))\n",
    "\n",
    "# series1.append(series2)\n",
    "pd.concat([series1, series2])"
   ]
  },
  {
   "cell_type": "markdown",
   "id": "4e709173-4775-47ea-a174-30d842becc62",
   "metadata": {},
   "source": [
    "38. Write a Pandas program to check the equality of two given series."
   ]
  },
  {
   "cell_type": "code",
   "execution_count": 141,
   "id": "2b9121d1-136d-4d98-a545-89eeff493a0c",
   "metadata": {},
   "outputs": [
    {
     "data": {
      "text/plain": [
       "0    True\n",
       "1    True\n",
       "2    True\n",
       "3    True\n",
       "4    True\n",
       "5    True\n",
       "6    True\n",
       "7    True\n",
       "8    True\n",
       "9    True\n",
       "dtype: bool"
      ]
     },
     "execution_count": 141,
     "metadata": {},
     "output_type": "execute_result"
    }
   ],
   "source": [
    "nums1 = pd.Series([1, 8, 7, 5, 6, 5, 3, 4, 7, 1])\n",
    "nums2 = pd.Series([1, 8, 7, 5, 6, 5, 3, 4, 7, 1])\n",
    "\n",
    "nums1 == nums2"
   ]
  },
  {
   "cell_type": "markdown",
   "id": "cc71c6e6-ea7a-4161-8148-9df136c0b0f0",
   "metadata": {},
   "source": [
    "39. Write a Pandas program to find the index of the first occurrence of the smallest and largest value of a given series.\r\n"
   ]
  },
  {
   "cell_type": "code",
   "execution_count": 148,
   "id": "ce2816da-da5c-4a05-a6c6-15b136a59871",
   "metadata": {},
   "outputs": [
    {
     "name": "stdout",
     "output_type": "stream",
     "text": [
      "9 4\n"
     ]
    }
   ],
   "source": [
    "nums = pd.Series([1, 3, 7, 12, 88, 23, 3, 1, 9, 0])\n",
    "print(nums.idxmin(),\n",
    "nums.idxmax())"
   ]
  },
  {
   "cell_type": "markdown",
   "id": "927e4b16-0bff-4630-a8e6-cb2ecc923099",
   "metadata": {},
   "source": [
    "40. Write a Pandas program to check inequality over the index axis of a given dataframe and a given series."
   ]
  },
  {
   "cell_type": "code",
   "execution_count": 156,
   "id": "fa244f24-e7ae-421e-a5e1-2dd1f5d624f2",
   "metadata": {},
   "outputs": [
    {
     "data": {
      "text/html": [
       "<div>\n",
       "<style scoped>\n",
       "    .dataframe tbody tr th:only-of-type {\n",
       "        vertical-align: middle;\n",
       "    }\n",
       "\n",
       "    .dataframe tbody tr th {\n",
       "        vertical-align: top;\n",
       "    }\n",
       "\n",
       "    .dataframe thead th {\n",
       "        text-align: right;\n",
       "    }\n",
       "</style>\n",
       "<table border=\"1\" class=\"dataframe\">\n",
       "  <thead>\n",
       "    <tr style=\"text-align: right;\">\n",
       "      <th></th>\n",
       "      <th>W</th>\n",
       "      <th>X</th>\n",
       "      <th>Y</th>\n",
       "      <th>Z</th>\n",
       "    </tr>\n",
       "  </thead>\n",
       "  <tbody>\n",
       "    <tr>\n",
       "      <th>0</th>\n",
       "      <td>False</td>\n",
       "      <td>True</td>\n",
       "      <td>True</td>\n",
       "      <td>True</td>\n",
       "    </tr>\n",
       "    <tr>\n",
       "      <th>1</th>\n",
       "      <td>False</td>\n",
       "      <td>False</td>\n",
       "      <td>True</td>\n",
       "      <td>True</td>\n",
       "    </tr>\n",
       "    <tr>\n",
       "      <th>2</th>\n",
       "      <td>False</td>\n",
       "      <td>True</td>\n",
       "      <td>True</td>\n",
       "      <td>True</td>\n",
       "    </tr>\n",
       "    <tr>\n",
       "      <th>3</th>\n",
       "      <td>False</td>\n",
       "      <td>False</td>\n",
       "      <td>True</td>\n",
       "      <td>True</td>\n",
       "    </tr>\n",
       "    <tr>\n",
       "      <th>4</th>\n",
       "      <td>True</td>\n",
       "      <td>True</td>\n",
       "      <td>True</td>\n",
       "      <td>True</td>\n",
       "    </tr>\n",
       "  </tbody>\n",
       "</table>\n",
       "</div>"
      ],
      "text/plain": [
       "       W      X     Y     Z\n",
       "0  False   True  True  True\n",
       "1  False  False  True  True\n",
       "2  False   True  True  True\n",
       "3  False  False  True  True\n",
       "4   True   True  True  True"
      ]
     },
     "execution_count": 156,
     "metadata": {},
     "output_type": "execute_result"
    }
   ],
   "source": [
    "df_data = pd.DataFrame({'W':[68,75,86,80,None],'X':[78,75,None,80,86], 'Y':[84,94,89,86,86],'Z':[86,97,96,72,83]});\n",
    "sr_data = pd.Series([68, 75, 86, 80, None]) \n",
    "\n",
    "df_data.ne(sr_data, axis=0)"
   ]
  },
  {
   "cell_type": "code",
   "execution_count": null,
   "id": "2333cfbe-cff5-4c44-9e85-db65b81a9383",
   "metadata": {},
   "outputs": [],
   "source": []
  }
 ],
 "metadata": {
  "kernelspec": {
   "display_name": "Python 3 (ipykernel)",
   "language": "python",
   "name": "python3"
  },
  "language_info": {
   "codemirror_mode": {
    "name": "ipython",
    "version": 3
   },
   "file_extension": ".py",
   "mimetype": "text/x-python",
   "name": "python",
   "nbconvert_exporter": "python",
   "pygments_lexer": "ipython3",
   "version": "3.11.5"
  }
 },
 "nbformat": 4,
 "nbformat_minor": 5
}
