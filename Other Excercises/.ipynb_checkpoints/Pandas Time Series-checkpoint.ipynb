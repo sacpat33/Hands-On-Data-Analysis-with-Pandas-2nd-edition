{
 "cells": [
  {
   "cell_type": "code",
   "execution_count": 1,
   "id": "e5869aef-0017-4354-b566-93b70ba3c9c3",
   "metadata": {},
   "outputs": [],
   "source": [
    "import numpy as np\n",
    "import pandas as pd\n",
    "import datetime\n",
    "from datetime import datetime\n"
   ]
  },
  {
   "cell_type": "markdown",
   "id": "2868ea8d-beab-41ce-befe-9b8eff40943b",
   "metadata": {},
   "source": [
    "1. Write a Pandas program to create\r\n",
    "a) Datetime object for Jan 15 2012.\r\n",
    "b) Specific date and time of 9:20 pm.\r\n",
    "c) Local date and time.\r\n",
    "d) A date without time.\r\n",
    "e) Current date.\r\n",
    "f) Time from a datetime.\r\n",
    "g) Current local time."
   ]
  },
  {
   "cell_type": "code",
   "execution_count": 2,
   "id": "c00cb999-3b63-48b6-b07d-cac8f85be80c",
   "metadata": {},
   "outputs": [
    {
     "name": "stdout",
     "output_type": "stream",
     "text": [
      "Datetime object for Jan 15 2012 : 2012-01-15 00:00:00\n",
      "Datetime object for Jan 15 2012 9:20 pm: 2012-01-15 21:20:00\n",
      "Local date and time: 2024-03-02 22:41:39.798772\n",
      "Local date : 2024-03-02\n",
      "Time from a datetime : 21:20:00\n",
      "Current local time : 22:41:39.798772\n"
     ]
    }
   ],
   "source": [
    "print('Datetime object for Jan 15 2012 :' , datetime(2012,1,15))\n",
    "print('Datetime object for Jan 15 2012 9:20 pm:' , datetime(2012,1,15, 21,20,00))\n",
    "print('Local date and time:' , datetime.now())\n",
    "print('Local date :' , datetime.now().date())\n",
    "print('Time from a datetime :' , datetime.time(datetime(2012,1,15, 21,20,00)))\n",
    "print('Current local time :' , datetime.now().time())\n"
   ]
  },
  {
   "cell_type": "markdown",
   "id": "035563c2-dbae-4f73-8372-9f847c2de6df",
   "metadata": {},
   "source": [
    "2. Write a Pandas program to create\r\n",
    "a) a specific date using timestamp.\r\n",
    "b) date and time using timestamp.\r\n",
    "c) a time adds in the current local date using timestamp.\r\n",
    "d) current date and time using timestamp."
   ]
  },
  {
   "cell_type": "code",
   "execution_count": 3,
   "id": "880a5624-1af8-498f-aa34-3479c137f1e2",
   "metadata": {},
   "outputs": [
    {
     "name": "stdout",
     "output_type": "stream",
     "text": [
      "2012-01-15 00:00:00\n",
      "2012-01-15 21:20:00\n",
      "2024-03-02 11:30:00\n",
      "2024-03-02 22:41:39.811918\n"
     ]
    }
   ],
   "source": [
    "# print(pd.Timestamp(2012,1,15))\n",
    "print(pd.Timestamp('2012-01-15'))\n",
    "# print(pd.Timestamp(2012,1,15,21,20,00))\n",
    "print(pd.Timestamp('2012-01-15 9:20pm'))\n",
    "print(pd.Timestamp('11:30'))\n",
    "print(pd.Timestamp('now'))"
   ]
  },
  {
   "cell_type": "markdown",
   "id": "94f14980-626b-46c7-8c10-ef21ae431fdb",
   "metadata": {},
   "source": [
    "3. Write a Pandas program to create a date from a given year, month, day and another date from a given string formats."
   ]
  },
  {
   "cell_type": "code",
   "execution_count": 4,
   "id": "e0fe02b1-0642-4100-98a4-d5c613236545",
   "metadata": {},
   "outputs": [
    {
     "name": "stdout",
     "output_type": "stream",
     "text": [
      "2020-12-25 00:00:00\n",
      "2021-01-02 13:00:00+00:00\n"
     ]
    }
   ],
   "source": [
    "date1 = datetime(year=2020, month=12, day=25)\n",
    "print(date1)\n",
    "\n",
    "from dateutil  import parser\n",
    "\n",
    "date2 = parser.parse('2 Jan 2021 1pm GMT')\n",
    "print(date2)"
   ]
  },
  {
   "cell_type": "markdown",
   "id": "84708d43-76ca-463f-b1af-273492383f7c",
   "metadata": {},
   "source": [
    "4. Write a Pandas program to print the day after and before a specified date. Also print the days between two given dates."
   ]
  },
  {
   "cell_type": "code",
   "execution_count": 5,
   "id": "7fcb48d1-a88c-44c1-958b-2d8496cd2235",
   "metadata": {},
   "outputs": [
    {
     "name": "stdout",
     "output_type": "stream",
     "text": [
      "2024-03-02\n",
      "2024-03-01\n",
      "2024-03-03\n",
      "date diff: 9 days 00:00:00\n"
     ]
    }
   ],
   "source": [
    "today = datetime.now().date()\n",
    "print(today)\n",
    "\n",
    "# yday = today - pd.Timedelta('1D')\n",
    "yday = today - pd.Timedelta(days=1)\n",
    "print(yday)\n",
    "\n",
    "# tmrw = today + pd.Timedelta('1D')\n",
    "tmrw = today + pd.Timedelta(days=1)\n",
    "print(tmrw)\n",
    "\n",
    "date1 = pd.Timestamp(2024, 2, 20)\n",
    "date2 = pd.Timestamp(2024, 2, 29)\n",
    "\n",
    "print('date diff:', date2-date1)"
   ]
  },
  {
   "cell_type": "markdown",
   "id": "32ac77f4-aa9c-4bee-b240-1ad322567487",
   "metadata": {},
   "source": [
    "5. Write a Pandas program to create a time-series with two index labels and random values. Also print the type of the index."
   ]
  },
  {
   "cell_type": "code",
   "execution_count": 6,
   "id": "01145184-0f17-41c3-ab99-140dfe599b0d",
   "metadata": {},
   "outputs": [
    {
     "name": "stdout",
     "output_type": "stream",
     "text": [
      "2024-03-01    0.028872\n",
      "2024-03-03    0.110567\n",
      "dtype: float64\n",
      "<class 'pandas.core.indexes.base.Index'>\n"
     ]
    }
   ],
   "source": [
    "dates = [yday, tmrw]\n",
    "\n",
    "ts = pd.Series(np.random.rand(2), index=dates)\n",
    "print(ts)\n",
    "print(type(ts.index))"
   ]
  },
  {
   "cell_type": "markdown",
   "id": "07c38de8-a34e-4ad1-9a47-616edad6ff74",
   "metadata": {},
   "source": [
    "6. Write a Pandas program to create a time-series from a given list of dates as strings."
   ]
  },
  {
   "cell_type": "code",
   "execution_count": 7,
   "id": "59a956b6-dc06-45d8-b128-980438ecf3a1",
   "metadata": {},
   "outputs": [
    {
     "name": "stdout",
     "output_type": "stream",
     "text": [
      "2014-08-01   -0.427472\n",
      "2014-08-02    0.876912\n",
      "2014-08-03   -1.866509\n",
      "2014-08-04   -0.554888\n",
      "dtype: float64\n"
     ]
    }
   ],
   "source": [
    "dates = ['2014-08-01','2014-08-02','2014-08-03','2014-08-04']\n",
    "ts = pd.Series(np.random.randn(len(dates)), index=dates)\n",
    "print(ts)"
   ]
  },
  {
   "cell_type": "markdown",
   "id": "5968be22-c5b9-4cab-bbe3-53d9ff9e53b3",
   "metadata": {},
   "source": [
    "7. Write a Pandas program to create a time series object that has time indexed data. Also select the dates of same year and select the dates between certain dates."
   ]
  },
  {
   "cell_type": "code",
   "execution_count": 8,
   "id": "a34234be-d7ce-4940-86c1-f3a4eeb75848",
   "metadata": {
    "scrolled": true
   },
   "outputs": [
    {
     "name": "stdout",
     "output_type": "stream",
     "text": [
      "2011-09-02    0\n",
      "2012-08-04    1\n",
      "2015-09-03    2\n",
      "2010-08-04    3\n",
      "2015-03-03    4\n",
      "2011-08-04    5\n",
      "2015-04-03    6\n",
      "2012-08-04    7\n",
      "dtype: int64\n",
      "2015-09-03    2\n",
      "2015-03-03    4\n",
      "2015-04-03    6\n",
      "dtype: int64\n",
      "2012-08-04    1\n",
      "2012-08-04    7\n",
      "dtype: int64\n"
     ]
    }
   ],
   "source": [
    "index = pd.DatetimeIndex(['2011-09-02', '2012-08-04',\n",
    "                          '2015-09-03', '2010-08-04',\n",
    "                          '2015-03-03', '2011-08-04',\n",
    "                          '2015-04-03', '2012-08-04'])\n",
    "ts = pd.Series(range(0,len(index)), index=index)\n",
    "print(ts)\n",
    "print(ts['2015'])\n",
    "ts.sort_index(inplace=True)\n",
    "print(ts.loc['2012-01-01':'2012-12-31'])"
   ]
  },
  {
   "cell_type": "markdown",
   "id": "47c7221c-ebf3-498a-a313-dfce75c6958c",
   "metadata": {},
   "source": [
    "8. Write a Pandas program to create a date range using a startpoint date and a number of periods."
   ]
  },
  {
   "cell_type": "code",
   "execution_count": 9,
   "id": "b0d56d2d-c406-4418-ae52-5972df9e6fe2",
   "metadata": {
    "scrolled": true
   },
   "outputs": [
    {
     "name": "stdout",
     "output_type": "stream",
     "text": [
      "DatetimeIndex(['2023-01-01', '2023-01-03', '2023-01-05', '2023-01-07',\n",
      "               '2023-01-09', '2023-01-11', '2023-01-13', '2023-01-15',\n",
      "               '2023-01-17', '2023-01-19', '2023-01-21', '2023-01-23',\n",
      "               '2023-01-25', '2023-01-27', '2023-01-29', '2023-01-31',\n",
      "               '2023-02-02', '2023-02-04', '2023-02-06', '2023-02-08',\n",
      "               '2023-02-10', '2023-02-12', '2023-02-14', '2023-02-16',\n",
      "               '2023-02-18', '2023-02-20', '2023-02-22', '2023-02-24',\n",
      "               '2023-02-26', '2023-02-28', '2023-03-02', '2023-03-04',\n",
      "               '2023-03-06', '2023-03-08', '2023-03-10', '2023-03-12',\n",
      "               '2023-03-14', '2023-03-16', '2023-03-18', '2023-03-20',\n",
      "               '2023-03-22', '2023-03-24', '2023-03-26', '2023-03-28',\n",
      "               '2023-03-30'],\n",
      "              dtype='datetime64[ns]', freq='2D')\n"
     ]
    }
   ],
   "source": [
    "d_range = pd.date_range('2023-01-01', periods=45, freq='2D')\n",
    "print(d_range)"
   ]
  },
  {
   "cell_type": "markdown",
   "id": "41ddf599-e7a6-4154-be50-2bc9b4bca9d6",
   "metadata": {},
   "source": [
    "9. Write a Pandas program to create a whole month of dates in daily frequencies. Also find the maximum, minimum timestamp and indexs."
   ]
  },
  {
   "cell_type": "code",
   "execution_count": 10,
   "id": "39390d91-b520-4111-b57e-ae2e107951c5",
   "metadata": {},
   "outputs": [
    {
     "name": "stdout",
     "output_type": "stream",
     "text": [
      "0    2024-01-01\n",
      "1    2024-01-02\n",
      "2    2024-01-03\n",
      "3    2024-01-04\n",
      "4    2024-01-05\n",
      "5    2024-01-06\n",
      "6    2024-01-07\n",
      "7    2024-01-08\n",
      "8    2024-01-09\n",
      "9    2024-01-10\n",
      "10   2024-01-11\n",
      "11   2024-01-12\n",
      "12   2024-01-13\n",
      "13   2024-01-14\n",
      "14   2024-01-15\n",
      "15   2024-01-16\n",
      "16   2024-01-17\n",
      "17   2024-01-18\n",
      "18   2024-01-19\n",
      "19   2024-01-20\n",
      "20   2024-01-21\n",
      "21   2024-01-22\n",
      "22   2024-01-23\n",
      "23   2024-01-24\n",
      "24   2024-01-25\n",
      "25   2024-01-26\n",
      "26   2024-01-27\n",
      "27   2024-01-28\n",
      "28   2024-01-29\n",
      "29   2024-01-30\n",
      "30   2024-01-31\n",
      "dtype: datetime64[ns]\n",
      "2024-01-31 00:00:00\n",
      "2024-01-01 00:00:00\n",
      "0\n",
      "30\n"
     ]
    }
   ],
   "source": [
    "month_dates = pd.Series(pd.date_range('2024-01-01', periods=31, freq='D'))\n",
    "print(month_dates)\n",
    "print(month_dates.max())\n",
    "print(month_dates.min())\n",
    "print(month_dates.idxmin())\n",
    "print(month_dates.idxmax())"
   ]
  },
  {
   "cell_type": "markdown",
   "id": "4e407af0-84b1-477a-851e-b580bb973c84",
   "metadata": {},
   "source": [
    "10. Write a Pandas program to create a time series using three months frequency."
   ]
  },
  {
   "cell_type": "code",
   "execution_count": 11,
   "id": "4e84a8d1-22ca-46d6-b2d5-ce0ddda0578e",
   "metadata": {},
   "outputs": [
    {
     "name": "stdout",
     "output_type": "stream",
     "text": [
      "0    2024-01-31\n",
      "1    2024-04-30\n",
      "2    2024-07-31\n",
      "3    2024-10-31\n",
      "4    2025-01-31\n",
      "5    2025-04-30\n",
      "6    2025-07-31\n",
      "7    2025-10-31\n",
      "8    2026-01-31\n",
      "9    2026-04-30\n",
      "10   2026-07-31\n",
      "11   2026-10-31\n",
      "12   2027-01-31\n",
      "13   2027-04-30\n",
      "14   2027-07-31\n",
      "15   2027-10-31\n",
      "16   2028-01-31\n",
      "17   2028-04-30\n",
      "18   2028-07-31\n",
      "19   2028-10-31\n",
      "20   2029-01-31\n",
      "21   2029-04-30\n",
      "22   2029-07-31\n",
      "23   2029-10-31\n",
      "24   2030-01-31\n",
      "25   2030-04-30\n",
      "26   2030-07-31\n",
      "27   2030-10-31\n",
      "28   2031-01-31\n",
      "29   2031-04-30\n",
      "30   2031-07-31\n",
      "31   2031-10-31\n",
      "32   2032-01-31\n",
      "33   2032-04-30\n",
      "34   2032-07-31\n",
      "35   2032-10-31\n",
      "dtype: datetime64[ns]\n"
     ]
    }
   ],
   "source": [
    "ts = pd.Series(pd.date_range('2024-01-01', periods=36, freq='3M'))\n",
    "print(ts)"
   ]
  },
  {
   "cell_type": "markdown",
   "id": "c934eefd-7617-4987-8704-56e7eb5f5c17",
   "metadata": {},
   "source": [
    "11. Write a Pandas program to create a sequence of durations increasing by an hour."
   ]
  },
  {
   "cell_type": "code",
   "execution_count": 12,
   "id": "4c84b394-872d-4d4b-b18f-09b7021179b7",
   "metadata": {},
   "outputs": [
    {
     "name": "stdout",
     "output_type": "stream",
     "text": [
      "TimedeltaIndex(['0 days 00:00:00', '0 days 01:00:00', '0 days 02:00:00',\n",
      "                '0 days 03:00:00', '0 days 04:00:00', '0 days 05:00:00',\n",
      "                '0 days 06:00:00', '0 days 07:00:00', '0 days 08:00:00',\n",
      "                '0 days 09:00:00', '0 days 10:00:00', '0 days 11:00:00',\n",
      "                '0 days 12:00:00', '0 days 13:00:00', '0 days 14:00:00',\n",
      "                '0 days 15:00:00', '0 days 16:00:00', '0 days 17:00:00',\n",
      "                '0 days 18:00:00', '0 days 19:00:00', '0 days 20:00:00',\n",
      "                '0 days 21:00:00', '0 days 22:00:00', '0 days 23:00:00',\n",
      "                '1 days 00:00:00', '1 days 01:00:00', '1 days 02:00:00',\n",
      "                '1 days 03:00:00', '1 days 04:00:00', '1 days 05:00:00',\n",
      "                '1 days 06:00:00', '1 days 07:00:00', '1 days 08:00:00',\n",
      "                '1 days 09:00:00', '1 days 10:00:00', '1 days 11:00:00',\n",
      "                '1 days 12:00:00', '1 days 13:00:00', '1 days 14:00:00',\n",
      "                '1 days 15:00:00', '1 days 16:00:00', '1 days 17:00:00',\n",
      "                '1 days 18:00:00', '1 days 19:00:00', '1 days 20:00:00',\n",
      "                '1 days 21:00:00', '1 days 22:00:00', '1 days 23:00:00',\n",
      "                '2 days 00:00:00', '2 days 01:00:00'],\n",
      "               dtype='timedelta64[ns]', freq='H')\n"
     ]
    }
   ],
   "source": [
    "d_range = pd.timedelta_range(0, periods=50, freq='H')\n",
    "print(d_range)"
   ]
  },
  {
   "cell_type": "markdown",
   "id": "c810a871-8261-4284-8ce1-33bceeef20b1",
   "metadata": {},
   "source": [
    "12. Write a Pandas program to convert year and day of year into a single datetime column of a dataframe."
   ]
  },
  {
   "cell_type": "code",
   "execution_count": 13,
   "id": "edca313b-26b1-49b3-b458-48ae375a91e6",
   "metadata": {},
   "outputs": [
    {
     "name": "stdout",
     "output_type": "stream",
     "text": [
      "Original DataFrame:\n",
      "   year  day_of_the_year\n",
      "0  2002              250\n",
      "1  2003              365\n",
      "2  2015                1\n",
      "3  2018              140\n"
     ]
    },
    {
     "data": {
      "text/html": [
       "<div>\n",
       "<style scoped>\n",
       "    .dataframe tbody tr th:only-of-type {\n",
       "        vertical-align: middle;\n",
       "    }\n",
       "\n",
       "    .dataframe tbody tr th {\n",
       "        vertical-align: top;\n",
       "    }\n",
       "\n",
       "    .dataframe thead th {\n",
       "        text-align: right;\n",
       "    }\n",
       "</style>\n",
       "<table border=\"1\" class=\"dataframe\">\n",
       "  <thead>\n",
       "    <tr style=\"text-align: right;\">\n",
       "      <th></th>\n",
       "      <th>year</th>\n",
       "      <th>day_of_the_year</th>\n",
       "      <th>DT</th>\n",
       "    </tr>\n",
       "  </thead>\n",
       "  <tbody>\n",
       "    <tr>\n",
       "      <th>0</th>\n",
       "      <td>2002</td>\n",
       "      <td>250</td>\n",
       "      <td>2002-09-07</td>\n",
       "    </tr>\n",
       "    <tr>\n",
       "      <th>1</th>\n",
       "      <td>2003</td>\n",
       "      <td>365</td>\n",
       "      <td>2003-12-31</td>\n",
       "    </tr>\n",
       "    <tr>\n",
       "      <th>2</th>\n",
       "      <td>2015</td>\n",
       "      <td>1</td>\n",
       "      <td>2015-01-01</td>\n",
       "    </tr>\n",
       "    <tr>\n",
       "      <th>3</th>\n",
       "      <td>2018</td>\n",
       "      <td>140</td>\n",
       "      <td>2018-05-20</td>\n",
       "    </tr>\n",
       "  </tbody>\n",
       "</table>\n",
       "</div>"
      ],
      "text/plain": [
       "   year  day_of_the_year         DT\n",
       "0  2002              250 2002-09-07\n",
       "1  2003              365 2003-12-31\n",
       "2  2015                1 2015-01-01\n",
       "3  2018              140 2018-05-20"
      ]
     },
     "execution_count": 13,
     "metadata": {},
     "output_type": "execute_result"
    }
   ],
   "source": [
    "data = {\\\n",
    "\"year\": [2002, 2003, 2015, 2018],\n",
    "\"day_of_the_year\": [250, 365, 1, 140]\n",
    "}\n",
    "df = pd.DataFrame(data)\n",
    "print(\"Original DataFrame:\")\n",
    "print(df)\n",
    "# df['DT'] = df.apply(lambda x:pd.Timestamp(year=x['year'], month=1, day=1) + pd.Timedelta(days=x['day_of_the_year']-1), axis=1)\n",
    "df['DT'] = pd.to_datetime(df['year'], format='%Y') + df['day_of_the_year'].apply(lambda x: pd.Timedelta(days=x-1))\n",
    "df"
   ]
  },
  {
   "cell_type": "markdown",
   "id": "37f4463c-5a35-46d9-bdec-4420d627fbb6",
   "metadata": {},
   "source": [
    "13. Write a Pandas program to create a series of Timestamps from a DataFrame of integer or string columns. Also create a series of Timestamps using specified columns."
   ]
  },
  {
   "cell_type": "code",
   "execution_count": 14,
   "id": "b5e16567-d9c9-4545-b801-b00bec335b8b",
   "metadata": {},
   "outputs": [
    {
     "name": "stdout",
     "output_type": "stream",
     "text": [
      "Original dataframe:\n",
      "   year  month  day  hour\n",
      "0  2018      2    4     2\n",
      "1  2019      3    5     3\n",
      "2  2020      4    6     4\n"
     ]
    },
    {
     "data": {
      "text/plain": [
       "0   2018-02-04 02:00:00\n",
       "1   2019-03-05 03:00:00\n",
       "2   2020-04-06 04:00:00\n",
       "dtype: datetime64[ns]"
      ]
     },
     "execution_count": 14,
     "metadata": {},
     "output_type": "execute_result"
    }
   ],
   "source": [
    "df = pd.DataFrame({'year': [2018, 2019, 2020],\n",
    "                   'month': [2, 3, 4],\n",
    "                   'day': [4, 5, 6],\n",
    "                   'hour': [2, 3, 4]})\n",
    "print(\"Original dataframe:\")\n",
    "print(df)\n",
    "\n",
    "# df['DT'] = df['year'].astype(str)+'-'+df['month'].astype(str)+'-'+df['day'].astype(str)+'-'+df['hour'].astype(str)\n",
    "# pd.to_datetime(df['DT'], format='%Y-%m-%d-%H')\n",
    "pd.to_datetime(df)\n",
    "\n",
    "# pd.to_datetime(df['year'],1,1)"
   ]
  },
  {
   "cell_type": "markdown",
   "id": "e7943c76-5b72-4523-9852-6e847e71fca1",
   "metadata": {},
   "source": [
    "14. Write a Pandas program to check if a day is a business day (weekday) or not."
   ]
  },
  {
   "cell_type": "code",
   "execution_count": 15,
   "id": "8df8b10c-6147-49b4-89c6-9e6a4c444f8f",
   "metadata": {},
   "outputs": [
    {
     "name": "stdout",
     "output_type": "stream",
     "text": [
      "Check busines day or not?\n",
      "2020-12-01:  True\n",
      "2020-12-06:  False\n",
      "2020-12-07:  True\n",
      "2020-12-08:  True\n"
     ]
    }
   ],
   "source": [
    "def is_business_day(date):\n",
    "    return bool(len(pd.bdate_range(date, date)))\n",
    "print(\"Check busines day or not?\")\n",
    "print('2020-12-01: ',is_business_day('2020-12-01'))\n",
    "print('2020-12-06: ',is_business_day('2020-12-06'))\n",
    "print('2020-12-07: ',is_business_day('2020-12-07'))\n",
    "print('2020-12-08: ',is_business_day('2020-12-08'))"
   ]
  },
  {
   "cell_type": "markdown",
   "id": "c8ffb358-9cf3-486e-ad0a-667a22b29234",
   "metadata": {},
   "source": [
    "15. Write a Pandas program to get a time series with the last working days of each month of a specific year."
   ]
  },
  {
   "cell_type": "code",
   "execution_count": 17,
   "id": "63f3cc57-0c25-4a99-9acc-af9fb9cd69e1",
   "metadata": {},
   "outputs": [
    {
     "name": "stdout",
     "output_type": "stream",
     "text": [
      "last working days of each month of a specific year:\n",
      "         Date\n",
      "0  2021-01-29\n",
      "1  2021-02-26\n",
      "2  2021-03-31\n",
      "3  2021-04-30\n",
      "4  2021-05-31\n",
      "5  2021-06-30\n",
      "6  2021-07-30\n",
      "7  2021-08-31\n",
      "8  2021-09-30\n",
      "9  2021-10-29\n",
      "10 2021-11-30\n",
      "11 2021-12-31\n"
     ]
    }
   ],
   "source": [
    "s = pd.date_range('2021-01-01', periods=12, freq='BM')\n",
    "df = pd.DataFrame(s, columns=['Date'])\n",
    "print('last working days of each month of a specific year:')\n",
    "print(df)"
   ]
  },
  {
   "cell_type": "code",
   "execution_count": null,
   "id": "ae86fc6d-1b35-4c84-9ee2-c4738fd2d0d2",
   "metadata": {},
   "outputs": [],
   "source": []
  }
 ],
 "metadata": {
  "kernelspec": {
   "display_name": "Python 3 (ipykernel)",
   "language": "python",
   "name": "python3"
  },
  "language_info": {
   "codemirror_mode": {
    "name": "ipython",
    "version": 3
   },
   "file_extension": ".py",
   "mimetype": "text/x-python",
   "name": "python",
   "nbconvert_exporter": "python",
   "pygments_lexer": "ipython3",
   "version": "3.11.5"
  }
 },
 "nbformat": 4,
 "nbformat_minor": 5
}
