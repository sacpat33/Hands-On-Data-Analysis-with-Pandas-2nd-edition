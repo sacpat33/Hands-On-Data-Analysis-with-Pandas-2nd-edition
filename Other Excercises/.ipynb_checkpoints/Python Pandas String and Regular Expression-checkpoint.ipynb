{
 "cells": [
  {
   "cell_type": "code",
   "execution_count": 1,
   "id": "221fb2be-3ca8-4fda-8c33-94bbf574bb85",
   "metadata": {},
   "outputs": [],
   "source": [
    "import numpy as np \n",
    "import pandas as pd"
   ]
  },
  {
   "cell_type": "markdown",
   "id": "8a742be1-290d-4b60-a2a2-b55070e0ba29",
   "metadata": {},
   "source": [
    "1. Write a Pandas program to convert all the string values to upper, lower cases in a given pandas series. Also find the length of the string values"
   ]
  },
  {
   "cell_type": "code",
   "execution_count": 2,
   "id": "0b65bbe6-0a6a-47d6-a572-87ebe107e766",
   "metadata": {},
   "outputs": [
    {
     "name": "stdout",
     "output_type": "stream",
     "text": [
      "Original series:\n",
      "0         X\n",
      "1         Y\n",
      "2         Z\n",
      "3      Aaba\n",
      "4      Baca\n",
      "5       NaN\n",
      "6      CABA\n",
      "7      None\n",
      "8      bird\n",
      "9     horse\n",
      "10      dog\n",
      "dtype: object\n",
      "0         X\n",
      "1         Y\n",
      "2         Z\n",
      "3      AABA\n",
      "4      BACA\n",
      "5       NaN\n",
      "6      CABA\n",
      "7      None\n",
      "8      BIRD\n",
      "9     HORSE\n",
      "10      DOG\n",
      "dtype: object\n",
      "0         x\n",
      "1         y\n",
      "2         z\n",
      "3      aaba\n",
      "4      baca\n",
      "5       NaN\n",
      "6      caba\n",
      "7      None\n",
      "8      bird\n",
      "9     horse\n",
      "10      dog\n",
      "dtype: object\n",
      "0     1.0\n",
      "1     1.0\n",
      "2     1.0\n",
      "3     4.0\n",
      "4     4.0\n",
      "5     NaN\n",
      "6     4.0\n",
      "7     NaN\n",
      "8     4.0\n",
      "9     5.0\n",
      "10    3.0\n",
      "dtype: float64\n"
     ]
    }
   ],
   "source": [
    "s = pd.Series(['X', 'Y', 'Z', 'Aaba', 'Baca', np.nan, 'CABA', None, 'bird', 'horse', 'dog'])\n",
    "print(\"Original series:\")\n",
    "print(s)\n",
    "print(s.str.upper())\n",
    "print(s.str.lower())\n",
    "print(s.str.len())"
   ]
  },
  {
   "cell_type": "markdown",
   "id": "550367f1-e9a5-4d76-8d9f-c74ba8d6e2da",
   "metadata": {},
   "source": [
    "2. Write a Pandas program to remove whitespaces, left sided whitespaces and right sided whitespaces of the string values of a given pandas series."
   ]
  },
  {
   "cell_type": "code",
   "execution_count": 3,
   "id": "2a1b15e0-ba36-4601-9683-a5ad36c4369d",
   "metadata": {},
   "outputs": [
    {
     "name": "stdout",
     "output_type": "stream",
     "text": [
      "Original series:\n",
      "Index([' Green', 'Black ', ' Red ', 'White', ' Pink '], dtype='object')\n",
      "Index(['Green', 'Black', 'Red', 'White', 'Pink'], dtype='object')\n",
      "Index(['Green', 'Black ', 'Red ', 'White', 'Pink '], dtype='object')\n",
      "Index([' Green', 'Black', ' Red', 'White', ' Pink'], dtype='object')\n"
     ]
    }
   ],
   "source": [
    "color1 = pd.Index([' Green', 'Black ', ' Red ', 'White', ' Pink '])\n",
    "print(\"Original series:\")\n",
    "print(color1)\n",
    "print(color1.str.strip())\n",
    "print(color1.str.lstrip())\n",
    "print(color1.str.rstrip())"
   ]
  },
  {
   "cell_type": "markdown",
   "id": "6808df66-c6f3-4df7-aad8-ad81ba02b165",
   "metadata": {},
   "source": [
    "3. Write a Pandas program to add leading zeros to the integer column in a pandas series and makes the length of the field to 8 digit."
   ]
  },
  {
   "cell_type": "code",
   "execution_count": 4,
   "id": "67e287cd-cefb-4d9a-988c-ccc3e85b293c",
   "metadata": {},
   "outputs": [
    {
     "name": "stdout",
     "output_type": "stream",
     "text": [
      "Original dataframe:\n",
      "amount    int64\n",
      "dtype: object\n",
      "0    00000010\n",
      "1    00000250\n",
      "2    00003000\n",
      "3    00040000\n",
      "4    00500000\n",
      "Name: amount, dtype: object\n"
     ]
    }
   ],
   "source": [
    "nums = {'amount': [10, 250, 3000, 40000, 500000]}\n",
    "print(\"Original dataframe:\")\n",
    "df = pd.DataFrame(nums)\n",
    "print(df.dtypes)\n",
    "print(df['amount'].apply(lambda x: '{0:0>8}'.format(x)))"
   ]
  },
  {
   "cell_type": "markdown",
   "id": "53e5da9e-5fe6-4195-af33-f67c52ec8568",
   "metadata": {},
   "source": [
    "4. Write a Pandas program to add leading zeros to the character column in a pandas series and makes the length of the field to 8 digit."
   ]
  },
  {
   "cell_type": "code",
   "execution_count": 5,
   "id": "4deb6b1a-c1de-4564-ba25-9f9d918586bf",
   "metadata": {},
   "outputs": [
    {
     "name": "stdout",
     "output_type": "stream",
     "text": [
      "Original dataframe:\n",
      "   amount\n",
      "0      10\n",
      "1     250\n",
      "2    3000\n",
      "3   40000\n",
      "4  500000\n",
      "       amount\n",
      "0  0000000010\n",
      "1  0000000250\n",
      "2  0000003000\n",
      "3  0000040000\n",
      "4  0000500000\n"
     ]
    }
   ],
   "source": [
    "nums = {'amount': ['10', '250', '3000', '40000', '500000']}\n",
    "print(\"Original dataframe:\")\n",
    "df = pd.DataFrame(nums)\n",
    "print(df)\n",
    "df['amount'] = list(map(lambda x: x.zfill(10), df['amount']))\n",
    "print(df)"
   ]
  },
  {
   "cell_type": "markdown",
   "id": "d0dbdcfa-0660-4460-9c61-64824b48eb2d",
   "metadata": {},
   "source": [
    "5. Write a Pandas program to capitalize all the string values of specified columns of a given DataFrame."
   ]
  },
  {
   "cell_type": "code",
   "execution_count": 6,
   "id": "5bb6ea76-b6c8-4a09-a6d1-5dafc1b79c3b",
   "metadata": {},
   "outputs": [
    {
     "name": "stdout",
     "output_type": "stream",
     "text": [
      "Original DataFrame:\n",
      "      name date_of_birth    age\n",
      "0  alberto     17/05/2002  18.5\n",
      "1     gino     16/02/1999  21.2\n",
      "2     ryan     25/09/1998  22.5\n",
      "3    Eesha     11/05/2002  22.0\n",
      "4     syed     15/09/1997  23.0\n",
      "      name date_of_birth    age\n",
      "0  Alberto     17/05/2002  18.5\n",
      "1     Gino     16/02/1999  21.2\n",
      "2     Ryan     25/09/1998  22.5\n",
      "3    Eesha     11/05/2002  22.0\n",
      "4     Syed     15/09/1997  23.0\n"
     ]
    }
   ],
   "source": [
    "df = pd.DataFrame({\n",
    "    'name': ['alberto','gino','ryan', 'Eesha', 'syed'],\n",
    "    'date_of_birth ': ['17/05/2002','16/02/1999','25/09/1998','11/05/2002','15/09/1997'],\n",
    "    'age': [18.5, 21.2, 22.5, 22, 23]\n",
    "})\n",
    "print(\"Original DataFrame:\")\n",
    "print(df)\n",
    "df['name'] = df['name'].apply(lambda x: x.capitalize())\n",
    "print(df)"
   ]
  },
  {
   "cell_type": "markdown",
   "id": "03985ba1-0543-4a63-9045-adbdfce5b851",
   "metadata": {},
   "source": [
    "6. Write a Pandas program to count of occurrence of a specified substring in a DataFrame column."
   ]
  },
  {
   "cell_type": "code",
   "execution_count": 7,
   "id": "466c2c6d-7f59-461f-9346-e182aec85934",
   "metadata": {},
   "outputs": [
    {
     "name": "stdout",
     "output_type": "stream",
     "text": [
      "Original DataFrame:\n",
      "  name_code date_of_birth    age\n",
      "0      c001     12/05/2002  18.5\n",
      "1      c002     16/02/1999  21.2\n",
      "2      c022     25/09/1998  22.5\n",
      "3     c2002     12/02/2022  22.0\n",
      "4     c2222     15/09/1997  23.0\n",
      "  name_code date_of_birth    age  count_2\n",
      "0      c001     12/05/2002  18.5        0\n",
      "1      c002     16/02/1999  21.2        1\n",
      "2      c022     25/09/1998  22.5        2\n",
      "3     c2002     12/02/2022  22.0        2\n",
      "4     c2222     15/09/1997  23.0        4\n"
     ]
    }
   ],
   "source": [
    "df = pd.DataFrame({\n",
    "    'name_code': ['c001','c002','c022', 'c2002', 'c2222'],\n",
    "    'date_of_birth ': ['12/05/2002','16/02/1999','25/09/1998','12/02/2022','15/09/1997'],\n",
    "    'age': [18.5, 21.2, 22.5, 22, 23]\n",
    "})\n",
    "print(\"Original DataFrame:\")\n",
    "print(df)\n",
    "df['count_2'] = df['name_code'].str.count('2')\n",
    "print(df)"
   ]
  },
  {
   "cell_type": "markdown",
   "id": "c6eebaa7-6753-413f-8e3d-380eca28f9c5",
   "metadata": {},
   "source": [
    "7. Write a Pandas program to find the index of a given substring of a DataFrame column."
   ]
  },
  {
   "cell_type": "code",
   "execution_count": 8,
   "id": "98b18245-718b-42ec-a9ea-0e5f3dad353b",
   "metadata": {},
   "outputs": [
    {
     "name": "stdout",
     "output_type": "stream",
     "text": [
      "Original DataFrame:\n",
      "  name_code date_of_birth    age\n",
      "0      c001     12/05/2002  18.5\n",
      "1      c002     16/02/1999  21.2\n",
      "2      c022     25/09/1998  22.5\n",
      "3     c2002     12/02/2022  22.0\n",
      "4     c2222     15/09/1997  23.0\n"
     ]
    },
    {
     "data": {
      "text/html": [
       "<div>\n",
       "<style scoped>\n",
       "    .dataframe tbody tr th:only-of-type {\n",
       "        vertical-align: middle;\n",
       "    }\n",
       "\n",
       "    .dataframe tbody tr th {\n",
       "        vertical-align: top;\n",
       "    }\n",
       "\n",
       "    .dataframe thead th {\n",
       "        text-align: right;\n",
       "    }\n",
       "</style>\n",
       "<table border=\"1\" class=\"dataframe\">\n",
       "  <thead>\n",
       "    <tr style=\"text-align: right;\">\n",
       "      <th></th>\n",
       "      <th>name_code</th>\n",
       "      <th>date_of_birth</th>\n",
       "      <th>age</th>\n",
       "      <th>index</th>\n",
       "    </tr>\n",
       "  </thead>\n",
       "  <tbody>\n",
       "    <tr>\n",
       "      <th>0</th>\n",
       "      <td>c001</td>\n",
       "      <td>12/05/2002</td>\n",
       "      <td>18.5</td>\n",
       "      <td>-1</td>\n",
       "    </tr>\n",
       "    <tr>\n",
       "      <th>1</th>\n",
       "      <td>c002</td>\n",
       "      <td>16/02/1999</td>\n",
       "      <td>21.2</td>\n",
       "      <td>-1</td>\n",
       "    </tr>\n",
       "    <tr>\n",
       "      <th>2</th>\n",
       "      <td>c022</td>\n",
       "      <td>25/09/1998</td>\n",
       "      <td>22.5</td>\n",
       "      <td>2</td>\n",
       "    </tr>\n",
       "    <tr>\n",
       "      <th>3</th>\n",
       "      <td>c2002</td>\n",
       "      <td>12/02/2022</td>\n",
       "      <td>22.0</td>\n",
       "      <td>-1</td>\n",
       "    </tr>\n",
       "    <tr>\n",
       "      <th>4</th>\n",
       "      <td>c2222</td>\n",
       "      <td>15/09/1997</td>\n",
       "      <td>23.0</td>\n",
       "      <td>1</td>\n",
       "    </tr>\n",
       "  </tbody>\n",
       "</table>\n",
       "</div>"
      ],
      "text/plain": [
       "  name_code date_of_birth    age  index\n",
       "0      c001     12/05/2002  18.5     -1\n",
       "1      c002     16/02/1999  21.2     -1\n",
       "2      c022     25/09/1998  22.5      2\n",
       "3     c2002     12/02/2022  22.0     -1\n",
       "4     c2222     15/09/1997  23.0      1"
      ]
     },
     "execution_count": 8,
     "metadata": {},
     "output_type": "execute_result"
    }
   ],
   "source": [
    "df = pd.DataFrame({\n",
    "    'name_code': ['c001','c002','c022', 'c2002', 'c2222'],\n",
    "    'date_of_birth ': ['12/05/2002','16/02/1999','25/09/1998','12/02/2022','15/09/1997'],\n",
    "    'age': [18.5, 21.2, 22.5, 22, 23]\n",
    "})\n",
    "print(\"Original DataFrame:\")\n",
    "print(df)\n",
    "\n",
    "df['index'] = df['name_code'].str.find('22')\n",
    "df"
   ]
  },
  {
   "cell_type": "markdown",
   "id": "2e187a4b-5d18-456b-b989-5087e6af7442",
   "metadata": {},
   "source": [
    "8. Write a Pandas program to find the index of a substring of DataFrame with beginning and end position."
   ]
  },
  {
   "cell_type": "code",
   "execution_count": 9,
   "id": "b533f06b-c856-4c32-a073-cd442b374bd0",
   "metadata": {},
   "outputs": [
    {
     "name": "stdout",
     "output_type": "stream",
     "text": [
      "Original DataFrame:\n",
      "  name_code date_of_birth    age\n",
      "0     c0001     12/05/2002  18.5\n",
      "1     1000c     16/02/1999  21.2\n",
      "2     b00c2     25/09/1998  22.5\n",
      "3     b2c02     12/02/2022  22.0\n",
      "4     c2222     15/09/1997  23.0\n",
      "  name_code date_of_birth    age  index\n",
      "0     c0001     12/05/2002  18.5      0\n",
      "1     1000c     16/02/1999  21.2      4\n",
      "2     b00c2     25/09/1998  22.5      3\n",
      "3     b2c02     12/02/2022  22.0      2\n",
      "4     c2222     15/09/1997  23.0      0\n"
     ]
    }
   ],
   "source": [
    "df = pd.DataFrame({\n",
    "    'name_code': ['c0001','1000c','b00c2', 'b2c02', 'c2222'],\n",
    "    'date_of_birth ': ['12/05/2002','16/02/1999','25/09/1998','12/02/2022','15/09/1997'],\n",
    "    'age': [18.5, 21.2, 22.5, 22, 23]\n",
    "})\n",
    "print(\"Original DataFrame:\")\n",
    "print(df)\n",
    "df['index'] = df['name_code'].str.find('c',0,5)\n",
    "print(df)"
   ]
  },
  {
   "cell_type": "markdown",
   "id": "bbfb77e2-c3bd-42eb-ac95-43df1709646a",
   "metadata": {},
   "source": [
    "9. Write a Pandas program to check whether alpha numeric values present in a given column of a DataFrame.\r\n",
    "Note: isalnum() function returns True if all characters in the string are alphanumeric and there is at least one character, False otherwise."
   ]
  },
  {
   "cell_type": "code",
   "execution_count": 10,
   "id": "3117ccdd-296c-452e-9a36-74e9c7f1d6ac",
   "metadata": {},
   "outputs": [
    {
     "name": "stdout",
     "output_type": "stream",
     "text": [
      "Original DataFrame:\n",
      "      name_code date_of_birth    age\n",
      "0       Company     12/05/2002  18.5\n",
      "1  Company a001     16/02/1999  21.2\n",
      "2   Company 123     25/09/1998  22.5\n",
      "3          1234     12/02/2022  22.0\n",
      "4    Company 12     15/09/1997  23.0\n",
      "      name_code date_of_birth    age  is_al_numeric\n",
      "0       Company     12/05/2002  18.5           True\n",
      "1  Company a001     16/02/1999  21.2          False\n",
      "2   Company 123     25/09/1998  22.5          False\n",
      "3          1234     12/02/2022  22.0           True\n",
      "4    Company 12     15/09/1997  23.0          False\n"
     ]
    }
   ],
   "source": [
    "df = pd.DataFrame({\n",
    "    'name_code': ['Company','Company a001','Company 123', '1234', 'Company 12'],\n",
    "    'date_of_birth ': ['12/05/2002','16/02/1999','25/09/1998','12/02/2022','15/09/1997'],\n",
    "    'age': [18.5, 21.2, 22.5, 22, 23]\n",
    "})\n",
    "print(\"Original DataFrame:\")\n",
    "print(df)\n",
    "df['is_al_numeric'] = df['name_code'].str.isalnum()\n",
    "print(df)"
   ]
  },
  {
   "cell_type": "markdown",
   "id": "48e55368-6823-4798-8b37-1ca7ea82ac6f",
   "metadata": {},
   "source": [
    "10. Write a Pandas program to check whether alphabetic values present in a given column of a DataFrame.\r\n",
    "Note: isalpha() returns True if all characters in the string are alphabetic and there is at least one character, False otherwise."
   ]
  },
  {
   "cell_type": "code",
   "execution_count": 11,
   "id": "cd485223-f7da-4592-8bcd-8afe7efff6b2",
   "metadata": {},
   "outputs": [
    {
     "name": "stdout",
     "output_type": "stream",
     "text": [
      "Original DataFrame:\n",
      "   company_code date_of_sale   sale_amount\n",
      "0       Company    12/05/2002      12348.5\n",
      "1  Company a001    16/02/1999     233331.2\n",
      "2   Company 123    25/09/1998         22.5\n",
      "3          abcd    12/02/2022    2566552.0\n",
      "4    Company 12    15/09/1997         23.0\n",
      "   company_code date_of_sale   sale_amount  is_alpha\n",
      "0       Company    12/05/2002      12348.5      True\n",
      "1  Company a001    16/02/1999     233331.2     False\n",
      "2   Company 123    25/09/1998         22.5     False\n",
      "3          abcd    12/02/2022    2566552.0      True\n",
      "4    Company 12    15/09/1997         23.0     False\n"
     ]
    }
   ],
   "source": [
    "df = pd.DataFrame({\n",
    "    'company_code': ['Company','Company a001','Company 123', 'abcd', 'Company 12'],\n",
    "    'date_of_sale ': ['12/05/2002','16/02/1999','25/09/1998','12/02/2022','15/09/1997'],\n",
    "    'sale_amount': [12348.5, 233331.2, 22.5, 2566552.0, 23.0]})\n",
    "print(\"Original DataFrame:\")\n",
    "print(df)\n",
    "df['is_alpha'] = df['company_code'].str.isalpha()\n",
    "print(df)"
   ]
  },
  {
   "cell_type": "markdown",
   "id": "bcc70cd1-5b1d-4d01-885a-b697ee39f23d",
   "metadata": {},
   "source": [
    "11. Write a Pandas program to check whether only numeric values present in a given column of a DataFrame."
   ]
  },
  {
   "cell_type": "code",
   "execution_count": 12,
   "id": "62ea2955-c330-4c45-b58a-b0f9e9670743",
   "metadata": {},
   "outputs": [
    {
     "name": "stdout",
     "output_type": "stream",
     "text": [
      "Original DataFrame:\n",
      "   company_code date_of_sale   sale_amount\n",
      "0       Company    12/05/2002      12348.5\n",
      "1  Company a001    16/02/1999     233331.2\n",
      "2          2055    25/09/1998         22.5\n",
      "3          abcd    12/02/2022    2566552.0\n",
      "4        123345    15/09/1997         23.0\n",
      "   company_code date_of_sale   sale_amount  is_numeric\n",
      "0       Company    12/05/2002      12348.5       False\n",
      "1  Company a001    16/02/1999     233331.2       False\n",
      "2          2055    25/09/1998         22.5        True\n",
      "3          abcd    12/02/2022    2566552.0       False\n",
      "4        123345    15/09/1997         23.0        True\n"
     ]
    }
   ],
   "source": [
    "df = pd.DataFrame({\n",
    "    'company_code': ['Company','Company a001', '2055', 'abcd', '123345'],\n",
    "    'date_of_sale ': ['12/05/2002','16/02/1999','25/09/1998','12/02/2022','15/09/1997'],\n",
    "    'sale_amount': [12348.5, 233331.2, 22.5, 2566552.0, 23.0]})\n",
    "\t\n",
    "print(\"Original DataFrame:\")\n",
    "print(df)\n",
    "df['is_numeric'] = df['company_code'].str.isnumeric()\n",
    "print(df)"
   ]
  },
  {
   "cell_type": "markdown",
   "id": "4127d36d-d9d7-4331-a95a-b1aa749ef684",
   "metadata": {},
   "source": [
    "12. Write a Pandas program to check whether only lower case or upper case is present in a given column of a DataFrame."
   ]
  },
  {
   "cell_type": "code",
   "execution_count": 13,
   "id": "50ac3c13-aa38-4569-b7e4-310a8cc394f0",
   "metadata": {},
   "outputs": [
    {
     "name": "stdout",
     "output_type": "stream",
     "text": [
      "Original DataFrame:\n",
      "  company_code date_of_sale   sale_amount\n",
      "0         ABCD    12/05/2002      12348.5\n",
      "1         EFGF    16/02/1999     233331.2\n",
      "2         hhhh    25/09/1998         22.5\n",
      "3         abcd    12/02/2022    2566552.0\n",
      "4      EAWQaaa    15/09/1997         23.0\n",
      "  company_code date_of_sale   sale_amount  is_upper\n",
      "0         ABCD    12/05/2002      12348.5      True\n",
      "1         EFGF    16/02/1999     233331.2      True\n",
      "2         hhhh    25/09/1998         22.5     False\n",
      "3         abcd    12/02/2022    2566552.0     False\n",
      "4      EAWQaaa    15/09/1997         23.0     False\n"
     ]
    }
   ],
   "source": [
    "df = pd.DataFrame({\n",
    "    'company_code': ['ABCD','EFGF', 'hhhh', 'abcd', 'EAWQaaa'],\n",
    "    'date_of_sale ': ['12/05/2002','16/02/1999','25/09/1998','12/02/2022','15/09/1997'],\n",
    "    'sale_amount': [12348.5, 233331.2, 22.5, 2566552.0, 23.0]})\n",
    "\n",
    "print(\"Original DataFrame:\")\n",
    "print(df)\n",
    "df['is_upper'] = df['company_code'].str.isupper()\n",
    "print(df)"
   ]
  },
  {
   "cell_type": "markdown",
   "id": "a62d1613-9232-4d61-9a82-9231523425f2",
   "metadata": {},
   "source": [
    "13. Write a Pandas program to check whether only proper case or title case is present in a given column of a DataFrame."
   ]
  },
  {
   "cell_type": "code",
   "execution_count": 14,
   "id": "196b4774-2d2d-4bd4-9226-e787f58cbd19",
   "metadata": {},
   "outputs": [
    {
     "name": "stdout",
     "output_type": "stream",
     "text": [
      "Original DataFrame:\n",
      "  company_code date_of_sale   sale_amount\n",
      "0         Abcd    12/05/2002      12348.5\n",
      "1         EFGF    16/02/1999     233331.2\n",
      "2         Hhhh    25/09/1998         22.5\n",
      "3         abcd    12/02/2022    2566552.0\n",
      "4      EAWQaaa    15/09/1997         23.0\n",
      "  company_code date_of_sale   sale_amount  is_title\n",
      "0         Abcd    12/05/2002      12348.5      True\n",
      "1         EFGF    16/02/1999     233331.2     False\n",
      "2         Hhhh    25/09/1998         22.5      True\n",
      "3         abcd    12/02/2022    2566552.0     False\n",
      "4      EAWQaaa    15/09/1997         23.0     False\n"
     ]
    }
   ],
   "source": [
    "df = pd.DataFrame({\n",
    "    'company_code': ['Abcd','EFGF', 'Hhhh', 'abcd', 'EAWQaaa'],\n",
    "    'date_of_sale ': ['12/05/2002','16/02/1999','25/09/1998','12/02/2022','15/09/1997'],\n",
    "    'sale_amount': [12348.5, 233331.2, 22.5, 2566552.0, 23.0]})\n",
    "\n",
    "print(\"Original DataFrame:\")\n",
    "print(df)\n",
    "df['is_title'] = df['company_code'].str.istitle()\n",
    "print(df)"
   ]
  },
  {
   "cell_type": "markdown",
   "id": "9778a542-ee15-4547-8395-5ebf8ff81bd6",
   "metadata": {},
   "source": [
    "14. Write a Pandas program to check whether only space is present in a given column of a DataFrame."
   ]
  },
  {
   "cell_type": "code",
   "execution_count": 15,
   "id": "03d0ff66-361c-4b69-9f0b-448d58fb8289",
   "metadata": {},
   "outputs": [
    {
     "name": "stdout",
     "output_type": "stream",
     "text": [
      "Original DataFrame:\n",
      "  company_code date_of_sale   sale_amount\n",
      "0         Abcd    12/05/2002      12348.5\n",
      "1        EFGF     16/02/1999     233331.2\n",
      "2                 25/09/1998         22.5\n",
      "3         abcd    12/02/2022    2566552.0\n",
      "4                 15/09/1997         23.0\n",
      "  company_code date_of_sale   sale_amount  is_space\n",
      "0         Abcd    12/05/2002      12348.5     False\n",
      "1        EFGF     16/02/1999     233331.2     False\n",
      "2                 25/09/1998         22.5      True\n",
      "3         abcd    12/02/2022    2566552.0     False\n",
      "4                 15/09/1997         23.0      True\n"
     ]
    }
   ],
   "source": [
    "df = pd.DataFrame({\n",
    "    'company_code': ['Abcd','EFGF ', '  ', 'abcd', ' '],\n",
    "    'date_of_sale ': ['12/05/2002','16/02/1999','25/09/1998','12/02/2022','15/09/1997'],\n",
    "    'sale_amount': [12348.5, 233331.2, 22.5, 2566552.0, 23.0]})\n",
    "\n",
    "print(\"Original DataFrame:\")\n",
    "print(df)\n",
    "df['is_space'] = df['company_code'].str.isspace()\n",
    "print(df)"
   ]
  },
  {
   "cell_type": "markdown",
   "id": "c8b75425-9f50-451f-b34f-29504cb0cda5",
   "metadata": {},
   "source": [
    "15. Write a Pandas program to get the length of the string present of a given column in a DataFrame."
   ]
  },
  {
   "cell_type": "code",
   "execution_count": 16,
   "id": "fc2a06b9-12d9-4ecc-a43c-cb43d12cbb6f",
   "metadata": {},
   "outputs": [
    {
     "name": "stdout",
     "output_type": "stream",
     "text": [
      "Original DataFrame:\n",
      "  company_code date_of_sale   sale_amount\n",
      "0         Abcd    12/05/2002      12348.5\n",
      "1         EFGF    16/02/1999     233331.2\n",
      "2      skfsalf    25/09/1998         22.5\n",
      "3      sdfslew    12/02/2022    2566552.0\n",
      "4       safsdf    15/09/1997         23.0\n",
      "  company_code date_of_sale   sale_amount  Company_code_len\n",
      "0         Abcd    12/05/2002      12348.5                 4\n",
      "1         EFGF    16/02/1999     233331.2                 4\n",
      "2      skfsalf    25/09/1998         22.5                 7\n",
      "3      sdfslew    12/02/2022    2566552.0                 7\n",
      "4       safsdf    15/09/1997         23.0                 6\n"
     ]
    }
   ],
   "source": [
    "df = pd.DataFrame({\n",
    "    'company_code': ['Abcd','EFGF', 'skfsalf', 'sdfslew', 'safsdf'],\n",
    "    'date_of_sale ': ['12/05/2002','16/02/1999','25/09/1998','12/02/2022','15/09/1997'],\n",
    "    'sale_amount': [12348.5, 233331.2, 22.5, 2566552.0, 23.0]})\n",
    "print(\"Original DataFrame:\")\n",
    "print(df)\n",
    "df['Company_code_len'] = df['company_code'].str.len()\n",
    "print(df)\n"
   ]
  },
  {
   "cell_type": "markdown",
   "id": "9d05be50-29f6-4329-bd21-72c28d908098",
   "metadata": {},
   "source": [
    "16. Write a Pandas program to get the length of the integer of a given column in a DataFrame."
   ]
  },
  {
   "cell_type": "code",
   "execution_count": 17,
   "id": "ed8ca267-4309-4f0d-a017-841c9c000e3f",
   "metadata": {},
   "outputs": [
    {
     "name": "stdout",
     "output_type": "stream",
     "text": [
      "Original DataFrame:\n",
      "  company_code date_of_sale  sale_amount\n",
      "0         Abcd   12/05/2002      12348.5\n",
      "1         EFGF   16/02/1999     233331.2\n",
      "2      skfsalf   25/09/1998         22.5\n",
      "3      sdfslew   12/02/2022    2566552.0\n",
      "4       safsdf   15/09/1997         23.0\n",
      "  company_code date_of_sale  sale_amount  len_sale_amount\n",
      "0         Abcd   12/05/2002      12348.5                7\n",
      "1         EFGF   16/02/1999     233331.2                8\n",
      "2      skfsalf   25/09/1998         22.5                4\n",
      "3      sdfslew   12/02/2022    2566552.0                9\n",
      "4       safsdf   15/09/1997         23.0                4\n"
     ]
    }
   ],
   "source": [
    "df = pd.DataFrame({\n",
    "    'company_code': ['Abcd','EFGF', 'skfsalf', 'sdfslew', 'safsdf'],\n",
    "    'date_of_sale': ['12/05/2002','16/02/1999','25/09/1998','12/02/2022','15/09/1997'],\n",
    "    'sale_amount': [12348.5, 233331.2, 22.5, 2566552.0, 23.0]\n",
    "})\n",
    "print(\"Original DataFrame:\")\n",
    "print(df)\n",
    "df['len_sale_amount']=df['sale_amount'].apply(lambda x: len(str(x)))\n",
    "# df['sale_amount'].apply(str).apply(len)\n",
    "print(df)"
   ]
  },
  {
   "cell_type": "markdown",
   "id": "89bf451b-bcb5-4d17-9bdd-9a67aff67b94",
   "metadata": {},
   "source": [
    "17. Write a Pandas program to check if a specified column starts with a specified string in a DataFrame."
   ]
  },
  {
   "cell_type": "code",
   "execution_count": 18,
   "id": "9c922fc3-4754-4b51-b75d-1979ab7737ce",
   "metadata": {},
   "outputs": [
    {
     "name": "stdout",
     "output_type": "stream",
     "text": [
      "Original DataFrame:\n",
      "  company_code date_of_sale  sale_amount\n",
      "0         Abcd   12/05/2002      12348.5\n",
      "1         EFGF   16/02/1999     233331.2\n",
      "2      zefsalf   25/09/1998         22.5\n",
      "3      sdfslew   12/02/2022    2566552.0\n",
      "4      zekfsdf   15/09/1997         23.0\n",
      "  company_code date_of_sale  sale_amount  startswithz_company_code\n",
      "0         Abcd   12/05/2002      12348.5                     False\n",
      "1         EFGF   16/02/1999     233331.2                     False\n",
      "2      zefsalf   25/09/1998         22.5                      True\n",
      "3      sdfslew   12/02/2022    2566552.0                     False\n",
      "4      zekfsdf   15/09/1997         23.0                      True\n"
     ]
    }
   ],
   "source": [
    "df = pd.DataFrame({\n",
    "    'company_code': ['Abcd','EFGF', 'zefsalf', 'sdfslew', 'zekfsdf'],\n",
    "    'date_of_sale': ['12/05/2002','16/02/1999','25/09/1998','12/02/2022','15/09/1997'],\n",
    "    'sale_amount': [12348.5, 233331.2, 22.5, 2566552.0, 23.0]\n",
    "})\n",
    "print(\"Original DataFrame:\")\n",
    "print(df)\n",
    "df['startswithz_company_code'] = df['company_code'].str.startswith('z')\n",
    "print(df)"
   ]
  },
  {
   "cell_type": "markdown",
   "id": "4e02ee1d-cd4b-48b6-ad0b-838c012eb4fa",
   "metadata": {},
   "source": [
    "18. Write a Pandas program to swap the cases of a specified character column in a given DataFrame."
   ]
  },
  {
   "cell_type": "code",
   "execution_count": 19,
   "id": "4af8db99-ce30-4809-a73b-0126c4fc17a9",
   "metadata": {},
   "outputs": [
    {
     "name": "stdout",
     "output_type": "stream",
     "text": [
      "Original DataFrame:\n",
      "  company_code date_of_sale  sale_amount\n",
      "0         Abcd   12/05/2002      12348.5\n",
      "1         EFGF   16/02/1999     233331.2\n",
      "2      zefsalf   25/09/1998         22.5\n",
      "3      sdfslew   12/02/2022    2566552.0\n",
      "4      zekfsdf   15/09/1997         23.0\n",
      "  company_code date_of_sale  sale_amount swap_case_company_code\n",
      "0         Abcd   12/05/2002      12348.5                   aBCD\n",
      "1         EFGF   16/02/1999     233331.2                   efgf\n",
      "2      zefsalf   25/09/1998         22.5                ZEFSALF\n",
      "3      sdfslew   12/02/2022    2566552.0                SDFSLEW\n",
      "4      zekfsdf   15/09/1997         23.0                ZEKFSDF\n"
     ]
    }
   ],
   "source": [
    "df = pd.DataFrame({\n",
    "    'company_code': ['Abcd','EFGF', 'zefsalf', 'sdfslew', 'zekfsdf'],\n",
    "    'date_of_sale': ['12/05/2002','16/02/1999','25/09/1998','12/02/2022','15/09/1997'],\n",
    "    'sale_amount': [12348.5, 233331.2, 22.5, 2566552.0, 23.0]\n",
    "})\n",
    "print(\"Original DataFrame:\")\n",
    "print(df)\n",
    "df['swap_case_company_code']  = df['company_code'].str.swapcase()\n",
    "print(df)"
   ]
  },
  {
   "cell_type": "markdown",
   "id": "d70d5a61-e418-45ce-abee-aa9f73620cc7",
   "metadata": {},
   "source": [
    "19. Write a Pandas program to convert a specified character column in upper/lower cases in a given DataFrame."
   ]
  },
  {
   "cell_type": "code",
   "execution_count": 20,
   "id": "44a792eb-b945-4a41-91cb-f238085445ab",
   "metadata": {},
   "outputs": [
    {
     "name": "stdout",
     "output_type": "stream",
     "text": [
      "Original DataFrame:\n",
      "  company_code date_of_sale  sale_amount\n",
      "0         Abcd   12/05/2002      12348.5\n",
      "1         EFGF   16/02/1999     233331.2\n",
      "2      zefsalf   25/09/1998         22.5\n",
      "3      sdfslew   12/02/2022    2566552.0\n",
      "4      zekfsdf   15/09/1997         23.0\n",
      "  company_code date_of_sale  sale_amount\n",
      "0         abcd   12/05/2002      12348.5\n",
      "1         efgf   16/02/1999     233331.2\n",
      "2      zefsalf   25/09/1998         22.5\n",
      "3      sdfslew   12/02/2022    2566552.0\n",
      "4      zekfsdf   15/09/1997         23.0\n",
      "  company_code date_of_sale  sale_amount\n",
      "0         ABCD   12/05/2002      12348.5\n",
      "1         EFGF   16/02/1999     233331.2\n",
      "2      ZEFSALF   25/09/1998         22.5\n",
      "3      SDFSLEW   12/02/2022    2566552.0\n",
      "4      ZEKFSDF   15/09/1997         23.0\n"
     ]
    }
   ],
   "source": [
    "df = pd.DataFrame({\n",
    "    'company_code': ['Abcd','EFGF', 'zefsalf', 'sdfslew', 'zekfsdf'],\n",
    "    'date_of_sale': ['12/05/2002','16/02/1999','25/09/1998','12/02/2022','15/09/1997'],\n",
    "    'sale_amount': [12348.5, 233331.2, 22.5, 2566552.0, 23.0]\n",
    "})\n",
    "\n",
    "df1 = pd.DataFrame({\n",
    "    'company_code': ['Abcd','EFGF', 'zefsalf', 'sdfslew', 'zekfsdf'],\n",
    "    'date_of_sale': ['12/05/2002','16/02/1999','25/09/1998','12/02/2022','15/09/1997'],\n",
    "    'sale_amount': [12348.5, 233331.2, 22.5, 2566552.0, 23.0]\n",
    "})\n",
    "print(\"Original DataFrame:\")\n",
    "print(df)\n",
    "\n",
    "df['company_code'] = df['company_code'].str.lower()\n",
    "df1['company_code'] = df1['company_code'].str.upper()\n",
    "print(df)\n",
    "print(df1)\n"
   ]
  },
  {
   "cell_type": "markdown",
   "id": "dc832b2e-5591-44e8-9174-9c77895022fb",
   "metadata": {},
   "source": [
    "20. Write a Pandas program to convert a specified character column in title case in a given DataFrame."
   ]
  },
  {
   "cell_type": "code",
   "execution_count": 21,
   "id": "99e8a2b2-7375-4c37-97d1-551ff30d1d5b",
   "metadata": {},
   "outputs": [
    {
     "name": "stdout",
     "output_type": "stream",
     "text": [
      "Original DataFrame:\n",
      "  company_code date_of_sale  sale_amount\n",
      "0         Abcd   12/05/2002      12348.5\n",
      "1         EFGF   16/02/1999     233331.2\n",
      "2      zefsalf   25/09/1998         22.5\n",
      "3      sdfslew   12/02/2022    2566552.0\n",
      "4      zekfsdf   15/09/1997         23.0\n",
      "  company_code date_of_sale  sale_amount Title_case_company_code\n",
      "0         ABCD   12/05/2002      12348.5                    Abcd\n",
      "1         EFGF   16/02/1999     233331.2                    Efgf\n",
      "2      ZEFSALF   25/09/1998         22.5                 Zefsalf\n",
      "3      SDFSLEW   12/02/2022    2566552.0                 Sdfslew\n",
      "4      ZEKFSDF   15/09/1997         23.0                 Zekfsdf\n"
     ]
    }
   ],
   "source": [
    "df = pd.DataFrame({\n",
    "    'company_code': ['Abcd','EFGF', 'zefsalf', 'sdfslew', 'zekfsdf'],\n",
    "    'date_of_sale': ['12/05/2002','16/02/1999','25/09/1998','12/02/2022','15/09/1997'],\n",
    "    'sale_amount': [12348.5, 233331.2, 22.5, 2566552.0, 23.0]\n",
    "})\n",
    "\n",
    "print(\"Original DataFrame:\")\n",
    "print(df)\n",
    "df1['Title_case_company_code'] = df1['company_code'].str.title()\n",
    "print(df1)"
   ]
  },
  {
   "cell_type": "markdown",
   "id": "dda36c42-de73-4066-b1e4-754227ffec49",
   "metadata": {},
   "source": [
    "21. Write a Pandas program to replace arbitrary values with other values in a given DataFrame."
   ]
  },
  {
   "cell_type": "code",
   "execution_count": 22,
   "id": "8ad7dca5-5f45-4a79-a343-88672ffc990e",
   "metadata": {
    "scrolled": true
   },
   "outputs": [
    {
     "name": "stdout",
     "output_type": "stream",
     "text": [
      "Original DataFrame:\n",
      "  company_code date_of_sale  sale_amount\n",
      "0            A   12/05/2002      12348.5\n",
      "1            B   16/02/1999     233331.2\n",
      "2            C   25/09/1998         22.5\n",
      "3            D   12/02/2022    2566552.0\n",
      "4            A   15/09/1997         23.0\n"
     ]
    },
    {
     "data": {
      "text/html": [
       "<div>\n",
       "<style scoped>\n",
       "    .dataframe tbody tr th:only-of-type {\n",
       "        vertical-align: middle;\n",
       "    }\n",
       "\n",
       "    .dataframe tbody tr th {\n",
       "        vertical-align: top;\n",
       "    }\n",
       "\n",
       "    .dataframe thead th {\n",
       "        text-align: right;\n",
       "    }\n",
       "</style>\n",
       "<table border=\"1\" class=\"dataframe\">\n",
       "  <thead>\n",
       "    <tr style=\"text-align: right;\">\n",
       "      <th></th>\n",
       "      <th>company_code</th>\n",
       "      <th>date_of_sale</th>\n",
       "      <th>sale_amount</th>\n",
       "    </tr>\n",
       "  </thead>\n",
       "  <tbody>\n",
       "    <tr>\n",
       "      <th>0</th>\n",
       "      <td>C</td>\n",
       "      <td>12/05/2002</td>\n",
       "      <td>12348.5</td>\n",
       "    </tr>\n",
       "    <tr>\n",
       "      <th>1</th>\n",
       "      <td>B</td>\n",
       "      <td>16/02/1999</td>\n",
       "      <td>233331.2</td>\n",
       "    </tr>\n",
       "    <tr>\n",
       "      <th>2</th>\n",
       "      <td>C</td>\n",
       "      <td>25/09/1998</td>\n",
       "      <td>22.5</td>\n",
       "    </tr>\n",
       "    <tr>\n",
       "      <th>3</th>\n",
       "      <td>D</td>\n",
       "      <td>12/02/2022</td>\n",
       "      <td>2566552.0</td>\n",
       "    </tr>\n",
       "    <tr>\n",
       "      <th>4</th>\n",
       "      <td>C</td>\n",
       "      <td>15/09/1997</td>\n",
       "      <td>23.0</td>\n",
       "    </tr>\n",
       "  </tbody>\n",
       "</table>\n",
       "</div>"
      ],
      "text/plain": [
       "  company_code date_of_sale  sale_amount\n",
       "0            C   12/05/2002      12348.5\n",
       "1            B   16/02/1999     233331.2\n",
       "2            C   25/09/1998         22.5\n",
       "3            D   12/02/2022    2566552.0\n",
       "4            C   15/09/1997         23.0"
      ]
     },
     "execution_count": 22,
     "metadata": {},
     "output_type": "execute_result"
    }
   ],
   "source": [
    "df = pd.DataFrame({\n",
    "    'company_code': ['A','B', 'C', 'D', 'A'],\n",
    "    'date_of_sale': ['12/05/2002','16/02/1999','25/09/1998','12/02/2022','15/09/1997'],\n",
    "    'sale_amount': [12348.5, 233331.2, 22.5, 2566552.0, 23.0]\n",
    "})\n",
    "\n",
    "print(\"Original DataFrame:\")\n",
    "print(df)\n",
    "df.replace('A', 'C')"
   ]
  },
  {
   "cell_type": "markdown",
   "id": "0d3f5ab5-f435-40fd-9b28-8de2ad35fa80",
   "metadata": {},
   "source": [
    "22. Write a Pandas program to replace more than one value with other values in a given DataFrame.\n"
   ]
  },
  {
   "cell_type": "code",
   "execution_count": 23,
   "id": "8e454ffa-b19a-465d-b4a9-c809371c08d7",
   "metadata": {},
   "outputs": [
    {
     "name": "stdout",
     "output_type": "stream",
     "text": [
      "Original DataFrame:\n",
      "  company_code date_of_sale  sale_amount\n",
      "0            A   12/05/2002      12348.5\n",
      "1            B   16/02/1999     233331.2\n",
      "2            C   25/09/1998         22.5\n",
      "3            D   12/02/2022    2566552.0\n",
      "4            A   15/09/1997         23.0\n"
     ]
    },
    {
     "data": {
      "text/html": [
       "<div>\n",
       "<style scoped>\n",
       "    .dataframe tbody tr th:only-of-type {\n",
       "        vertical-align: middle;\n",
       "    }\n",
       "\n",
       "    .dataframe tbody tr th {\n",
       "        vertical-align: top;\n",
       "    }\n",
       "\n",
       "    .dataframe thead th {\n",
       "        text-align: right;\n",
       "    }\n",
       "</style>\n",
       "<table border=\"1\" class=\"dataframe\">\n",
       "  <thead>\n",
       "    <tr style=\"text-align: right;\">\n",
       "      <th></th>\n",
       "      <th>company_code</th>\n",
       "      <th>date_of_sale</th>\n",
       "      <th>sale_amount</th>\n",
       "    </tr>\n",
       "  </thead>\n",
       "  <tbody>\n",
       "    <tr>\n",
       "      <th>0</th>\n",
       "      <td>X</td>\n",
       "      <td>12/05/2002</td>\n",
       "      <td>12348.5</td>\n",
       "    </tr>\n",
       "    <tr>\n",
       "      <th>1</th>\n",
       "      <td>B</td>\n",
       "      <td>16/02/1999</td>\n",
       "      <td>233331.2</td>\n",
       "    </tr>\n",
       "    <tr>\n",
       "      <th>2</th>\n",
       "      <td>C</td>\n",
       "      <td>25/09/1998</td>\n",
       "      <td>22.5</td>\n",
       "    </tr>\n",
       "    <tr>\n",
       "      <th>3</th>\n",
       "      <td>Y</td>\n",
       "      <td>12/02/2022</td>\n",
       "      <td>2566552.0</td>\n",
       "    </tr>\n",
       "    <tr>\n",
       "      <th>4</th>\n",
       "      <td>X</td>\n",
       "      <td>15/09/1997</td>\n",
       "      <td>23.0</td>\n",
       "    </tr>\n",
       "  </tbody>\n",
       "</table>\n",
       "</div>"
      ],
      "text/plain": [
       "  company_code date_of_sale  sale_amount\n",
       "0            X   12/05/2002      12348.5\n",
       "1            B   16/02/1999     233331.2\n",
       "2            C   25/09/1998         22.5\n",
       "3            Y   12/02/2022    2566552.0\n",
       "4            X   15/09/1997         23.0"
      ]
     },
     "execution_count": 23,
     "metadata": {},
     "output_type": "execute_result"
    }
   ],
   "source": [
    "df = pd.DataFrame({\n",
    "    'company_code': ['A','B', 'C', 'D', 'A'],\n",
    "    'date_of_sale': ['12/05/2002','16/02/1999','25/09/1998','12/02/2022','15/09/1997'],\n",
    "    'sale_amount': [12348.5, 233331.2, 22.5, 2566552.0, 23.0]\n",
    "})\n",
    "\n",
    "print(\"Original DataFrame:\")\n",
    "print(df)\n",
    "df.replace({'A':'X', 'D':'Y'})"
   ]
  },
  {
   "cell_type": "markdown",
   "id": "460355fb-1e38-4620-baba-f16c4932524a",
   "metadata": {},
   "source": [
    "23. Write a Pandas program to split a string of a column of a given DataFrame into multiple columns."
   ]
  },
  {
   "cell_type": "code",
   "execution_count": 24,
   "id": "046d0936-2b73-4d2c-a5ef-6d6e4332d758",
   "metadata": {},
   "outputs": [
    {
     "name": "stdout",
     "output_type": "stream",
     "text": [
      "Original DataFrame:\n",
      "                 name date_of_birth    age\n",
      "0     Alberto  Franco     17/05/2002  18.5\n",
      "1    Gino Ann Mcneill     16/02/1999  21.2\n",
      "2        Ryan  Parkes     25/09/1998  22.5\n",
      "3  Eesha Artur Hinton     11/05/2002  22.0\n",
      "4       Syed  Wharton     15/09/1997  23.0\n",
      "                 name date_of_birth    age    fname  mname    lname\n",
      "0     Alberto  Franco     17/05/2002  18.5  Alberto          Franco\n",
      "1    Gino Ann Mcneill     16/02/1999  21.2     Gino    Ann  Mcneill\n",
      "2        Ryan  Parkes     25/09/1998  22.5     Ryan          Parkes\n",
      "3  Eesha Artur Hinton     11/05/2002  22.0    Eesha  Artur   Hinton\n",
      "4       Syed  Wharton     15/09/1997  23.0     Syed         Wharton\n"
     ]
    }
   ],
   "source": [
    "df = pd.DataFrame({\n",
    "    'name': ['Alberto  Franco','Gino Ann Mcneill','Ryan  Parkes', 'Eesha Artur Hinton', 'Syed  Wharton'],\n",
    "    'date_of_birth ': ['17/05/2002','16/02/1999','25/09/1998','11/05/2002','15/09/1997'],\n",
    "    'age': [18.5, 21.2, 22.5, 22, 23]\n",
    "})\n",
    "print(\"Original DataFrame:\")\n",
    "print(df)\n",
    "df[['fname', 'mname', 'lname']] = df['name'].str.split(' ', expand=True)\n",
    "# print(df)\n",
    "# df.replace({'':np.nan})\n",
    "print(df)"
   ]
  },
  {
   "cell_type": "markdown",
   "id": "8a0205bd-483c-449e-b4cb-294ef62e194c",
   "metadata": {},
   "source": [
    "24. Write a Pandas program to extract email from a specified column of string type of a given DataFrame."
   ]
  },
  {
   "cell_type": "code",
   "execution_count": 25,
   "id": "743f6be2-7fac-4232-9f68-7d3428d1b25e",
   "metadata": {},
   "outputs": [
    {
     "name": "stdout",
     "output_type": "stream",
     "text": [
      "Original DataFrame:\n",
      "                    name_email\n",
      "0  Alberto Franco af@gmail.com\n",
      "1    Gino Mcneill gm@yahoo.com\n",
      "2        Ryan Parkes rp@abc.io\n",
      "3                 Eesha Hinton\n",
      "4   Gino Mcneill gm@github.com\n",
      "                    name_email          email\n",
      "0  Alberto Franco af@gmail.com   af@gmail.com\n",
      "1    Gino Mcneill gm@yahoo.com   gm@yahoo.com\n",
      "2        Ryan Parkes rp@abc.io      rp@abc.io\n",
      "3                 Eesha Hinton  gm@github.com\n",
      "4   Gino Mcneill gm@github.com            NaN\n"
     ]
    }
   ],
   "source": [
    "import re as re\n",
    "df = pd.DataFrame({\n",
    "    'name_email': ['Alberto Franco af@gmail.com','Gino Mcneill gm@yahoo.com','Ryan Parkes rp@abc.io', 'Eesha Hinton', 'Gino Mcneill gm@github.com']\n",
    "    })\n",
    "print(\"Original DataFrame:\")\n",
    "print(df)\n",
    "def find_email(text):\n",
    "    email = re.findall(r'[\\w\\.-]+@[\\w\\.-]+', str(text))\n",
    "    return email\n",
    "\n",
    "df['email'] = df.apply(lambda x: find_email(x))\n",
    "print(df)"
   ]
  },
  {
   "cell_type": "markdown",
   "id": "38fc0b00-276e-404d-b273-2d5f17253958",
   "metadata": {},
   "source": [
    "25. Write a Pandas program to extract hash attached word from twitter text from the specified column of a given DataFrame."
   ]
  },
  {
   "cell_type": "code",
   "execution_count": 26,
   "id": "7a6e971a-5106-4070-94a9-bbe8ea8b251d",
   "metadata": {},
   "outputs": [
    {
     "name": "stdout",
     "output_type": "stream",
     "text": [
      "Original DataFrame:\n",
      "                                  tweets\n",
      "0                    #Obama says goodbye\n",
      "1                     Retweets for #cash\n",
      "2  A political endorsement in #Indonesia\n",
      "3                 1 dog = many #retweets\n",
      "4                     Just a simple #egg\n",
      "                                  tweets  hash_word\n",
      "0                    #Obama says goodbye      Obama\n",
      "1                     Retweets for #cash       cash\n",
      "2  A political endorsement in #Indonesia  Indonesia\n",
      "3                 1 dog = many #retweets   retweets\n",
      "4                     Just a simple #egg        egg\n"
     ]
    }
   ],
   "source": [
    "df = pd.DataFrame({\n",
    "    'tweets': ['#Obama says goodbye','Retweets for #cash','A political endorsement in #Indonesia', '1 dog = many #retweets', 'Just a simple #egg']\n",
    "    })\n",
    "print(\"Original DataFrame:\")\n",
    "print(df)\n",
    "def find_hash(text):\n",
    "    hword=re.findall(r'(?<=#)\\w+',text)\n",
    "    return \" \".join(hword)\n",
    "df['hash_word']=df['tweets'].apply(lambda x: find_hash(x))\n",
    "print(df)"
   ]
  },
  {
   "cell_type": "markdown",
   "id": "38154352-11a2-4471-951a-5795e1315c8f",
   "metadata": {},
   "source": [
    "26. Write a Pandas program to extract word mention someone in tweets using @ from the specified column of a given DataFrame."
   ]
  },
  {
   "cell_type": "code",
   "execution_count": 27,
   "id": "6ac3e1a4-7120-48c8-9a5d-ffeb39190c55",
   "metadata": {},
   "outputs": [
    {
     "name": "stdout",
     "output_type": "stream",
     "text": [
      "Original DataFrame:\n",
      "                                  tweets\n",
      "0                    @Obama says goodbye\n",
      "1                     Retweets for @cash\n",
      "2  A political endorsement in @Indonesia\n",
      "3                 1 dog = many #retweets\n",
      "4                     Just a simple #egg\n",
      "                                  tweets    at_word\n",
      "0                    @Obama says goodbye      Obama\n",
      "1                     Retweets for @cash       cash\n",
      "2  A political endorsement in @Indonesia  Indonesia\n",
      "3                 1 dog = many #retweets           \n",
      "4                     Just a simple #egg           \n"
     ]
    }
   ],
   "source": [
    "df = pd.DataFrame({\n",
    "    'tweets': ['@Obama says goodbye','Retweets for @cash','A political endorsement in @Indonesia', '1 dog = many #retweets', 'Just a simple #egg']\n",
    "    })\n",
    "print(\"Original DataFrame:\")\n",
    "print(df)\n",
    "\n",
    "def find_at_word(text):\n",
    "    word = re.findall(r'(?<=@)\\w+', text)\n",
    "    return \" \".join(word)\n",
    "\n",
    "df['at_word']  = df['tweets'].apply(find_at_word)\n",
    "print(df)"
   ]
  },
  {
   "cell_type": "markdown",
   "id": "88692fb3-2db9-4a53-87fa-8545670ceb1c",
   "metadata": {},
   "source": [
    "27. Write a Pandas program to extract only number from the specified column of a given DataFrame."
   ]
  },
  {
   "cell_type": "code",
   "execution_count": 35,
   "id": "97a6f4d5-861b-4669-80b7-bff3a3f6b059",
   "metadata": {},
   "outputs": [
    {
     "name": "stdout",
     "output_type": "stream",
     "text": [
      "Original DataFrame:\n",
      "  company_code                   address\n",
      "0        c0001          7277 Surrey Ave.\n",
      "1        c0002        920 N. Bishop Ave.\n",
      "2        c0003      9910 Golden Star St.\n",
      "3        c0003             25 Dunbar St.\n",
      "4        c0004  17 West Livingston Court\n",
      "  company_code                   address ident_number\n",
      "0        c0001          7277 Surrey Ave.         7277\n",
      "1        c0002        920 N. Bishop Ave.          920\n",
      "2        c0003      9910 Golden Star St.         9910\n",
      "3        c0003             25 Dunbar St.           25\n",
      "4        c0004  17 West Livingston Court           17\n"
     ]
    }
   ],
   "source": [
    "df = pd.DataFrame({\n",
    "    'company_code': ['c0001','c0002','c0003', 'c0003', 'c0004'],\n",
    "    'address': ['7277 Surrey Ave.','920 N. Bishop Ave.','9910 Golden Star St.', '25 Dunbar St.', '17 West Livingston Court']\n",
    "    })\n",
    "print(\"Original DataFrame:\")\n",
    "print(df)\n",
    "\n",
    "def find_number(text):\n",
    "    num = re.findall(r'[0-9]+', text)\n",
    "    return ''.join(num)\n",
    "\n",
    "df['ident_number'] = df['address'].apply(find_number)\n",
    "print(df)\n"
   ]
  },
  {
   "cell_type": "markdown",
   "id": "a9dc88c4-8f5f-403e-baeb-44c2eef5628b",
   "metadata": {},
   "source": [
    "28. Write a Pandas program to extract only phone number from the specified column of a given DataFrame."
   ]
  },
  {
   "cell_type": "code",
   "execution_count": 39,
   "id": "0a5ddd6f-b067-4620-a20f-d28236890d97",
   "metadata": {},
   "outputs": [
    {
     "name": "stdout",
     "output_type": "stream",
     "text": [
      "Original DataFrame:\n",
      "  company_code               company_phone_no\n",
      "0        c0001  Company1-Phone no. 4695168357\n",
      "1        c0002  Company2-Phone no. 8088729013\n",
      "2        c0003  Company3-Phone no. 6204658086\n",
      "3        c0003  Company4-Phone no. 5159530096\n",
      "4        c0004  Company5-Phone no. 9037952371\n"
     ]
    },
    {
     "data": {
      "text/plain": [
       "0    4695168357\n",
       "1    8088729013\n",
       "2    6204658086\n",
       "3    5159530096\n",
       "4    9037952371\n",
       "Name: company_phone_no, dtype: object"
      ]
     },
     "execution_count": 39,
     "metadata": {},
     "output_type": "execute_result"
    }
   ],
   "source": [
    "df = pd.DataFrame({\n",
    "    'company_code': ['c0001','c0002','c0003', 'c0003', 'c0004'],\n",
    "    'company_phone_no': ['Company1-Phone no. 4695168357','Company2-Phone no. 8088729013','Company3-Phone no. 6204658086', 'Company4-Phone no. 5159530096', 'Company5-Phone no. 9037952371']\n",
    "    })\n",
    "print(\"Original DataFrame:\")\n",
    "print(df)\n",
    "\n",
    "def phone_number(text):\n",
    "    ph_num = re.findall(r'\\b\\d{10}\\b', text)\n",
    "    return ''.join(ph_num)\n",
    "\n",
    "df['company_phone_no'].apply(phone_number)"
   ]
  },
  {
   "cell_type": "markdown",
   "id": "af8a6bf9-c76e-4524-91f7-2ed9b539ddfc",
   "metadata": {},
   "source": [
    "29. Write a Pandas program to extract year between 1800 to 2200 from the specified column of a given DataFrame."
   ]
  },
  {
   "cell_type": "code",
   "execution_count": 41,
   "id": "863abf6f-4bb4-4123-a11e-7adb28d8a979",
   "metadata": {},
   "outputs": [
    {
     "name": "stdout",
     "output_type": "stream",
     "text": [
      "Original DataFrame:\n",
      "  company_code       year\n",
      "0        c0001  year 1800\n",
      "1        c0002  year 1700\n",
      "2        c0003  year 2300\n",
      "3        c0003  year 1900\n",
      "4        c0004  year 2200\n"
     ]
    },
    {
     "data": {
      "text/plain": [
       "0    [1800]\n",
       "1        []\n",
       "2        []\n",
       "3    [1900]\n",
       "4    [2200]\n",
       "Name: year, dtype: object"
      ]
     },
     "execution_count": 41,
     "metadata": {},
     "output_type": "execute_result"
    }
   ],
   "source": [
    "df = pd.DataFrame({\n",
    "    'company_code': ['c0001','c0002','c0003', 'c0003', 'c0004'],\n",
    "    'year': ['year 1800','year 1700','year 2300', 'year 1900', 'year 2200']\n",
    "    })\n",
    "print(\"Original DataFrame:\")\n",
    "print(df)\n",
    "def find_year(text):\n",
    "    #line=re.findall(r\"\\b(18[0][0]|2[0-2][00])\\b\",text)\n",
    "    result = re.findall(r\"\\b(18[0-9]{2}|19[0-8][0-9]|199[0-9]|2[01][0-9]{2}|2200)\\b\",text)\n",
    "    return result\n",
    "\n",
    "df['year'].apply(find_year)"
   ]
  },
  {
   "cell_type": "markdown",
   "id": "83f51ff5-526e-43fd-82e0-dceff8474342",
   "metadata": {},
   "source": [
    "30. Write a Pandas program to extract only non alphanumeric characters from the specified column of a given DataFrame."
   ]
  },
  {
   "cell_type": "code",
   "execution_count": 49,
   "id": "a9eeff72-096a-433a-9441-52fbddbaffac",
   "metadata": {},
   "outputs": [
    {
     "name": "stdout",
     "output_type": "stream",
     "text": [
      "Original DataFrame:\n",
      "  company_code       year\n",
      "0       c0001#  year 1800\n",
      "1      c00@0^2  year 1700\n",
      "2       $c0003  year 2300\n",
      "3        c0003  year 1900\n",
      "4       &c0004  year 2200\n"
     ]
    },
    {
     "data": {
      "text/plain": [
       "0     #\n",
       "1    @^\n",
       "2     $\n",
       "3      \n",
       "4     &\n",
       "Name: company_code, dtype: object"
      ]
     },
     "execution_count": 49,
     "metadata": {},
     "output_type": "execute_result"
    }
   ],
   "source": [
    "df = pd.DataFrame({\n",
    "    'company_code': ['c0001#','c00@0^2','$c0003', 'c0003', '&c0004'],\n",
    "    'year': ['year 1800','year 1700','year 2300', 'year 1900', 'year 2200']\n",
    "    })\n",
    "print(\"Original DataFrame:\")\n",
    "print(df)\n",
    "\n",
    "def pfind(text):\n",
    "    pf = re.findall(r'[^A-Za-z0-9]', text)\n",
    "    return ''.join(pf)\n",
    "\n",
    "df['company_code'].apply(pfind)"
   ]
  },
  {
   "cell_type": "markdown",
   "id": "e495f732-529a-485a-90f4-8db334d98c95",
   "metadata": {},
   "source": [
    "31. Write a Pandas program to extract only punctuations from the specified column of a given DataFrame."
   ]
  },
  {
   "cell_type": "code",
   "execution_count": 50,
   "id": "55e17ca1-812e-484e-b1bb-25114256e2a0",
   "metadata": {},
   "outputs": [
    {
     "name": "stdout",
     "output_type": "stream",
     "text": [
      "Original DataFrame:\n",
      "  company_code       year\n",
      "0       c0001.  year 1800\n",
      "1       c000,2  year 1700\n",
      "2        c0003  year 2300\n",
      "3       c0003#  year 1900\n",
      "4       c0004,  year 2200\n",
      "\n",
      "Extracting punctuation:\n",
      "  company_code       year nonalpha\n",
      "0       c0001.  year 1800      [.]\n",
      "1       c000,2  year 1700      [,]\n",
      "2        c0003  year 2300       []\n",
      "3       c0003#  year 1900      [#]\n",
      "4       c0004,  year 2200      [,]\n"
     ]
    }
   ],
   "source": [
    "df = pd.DataFrame({\n",
    "    'company_code': ['c0001.','c000,2','c0003', 'c0003#', 'c0004,'],\n",
    "    'year': ['year 1800','year 1700','year 2300', 'year 1900', 'year 2200']\n",
    "    })\n",
    "print(\"Original DataFrame:\")\n",
    "print(df)\n",
    "def find_punctuations(text):\n",
    "    result = re.findall(r'[!\"\\$%&\\'()*+,\\-.\\/:;=#@?\\[\\\\\\]^_`{|}~]*', text)\n",
    "    string=\"\".join(result)\n",
    "    return list(string)\n",
    "df['nonalpha']=df['company_code'].apply(lambda x: find_punctuations(x))\n",
    "print(\"\\nExtracting punctuation:\")\n",
    "print(df)"
   ]
  },
  {
   "cell_type": "markdown",
   "id": "cdec7097-d138-4fc6-b7f9-18ad4551c44a",
   "metadata": {},
   "source": [
    "32. Write a Pandas program to remove repetitive characters from the specified column of a given DataFrame."
   ]
  },
  {
   "cell_type": "code",
   "execution_count": 51,
   "id": "6407b490-072d-471f-b265-1b483f0fd044",
   "metadata": {},
   "outputs": [
    {
     "name": "stdout",
     "output_type": "stream",
     "text": [
      "Original DataFrame:\n",
      "  text_code                    text_lang\n",
      "0    t0001.      She livedd a long life.\n",
      "1     t0002     How oold is your father?\n",
      "2     t0003        What is tthe problem?\n",
      "3     t0004  TThhis desk is used by Tom.\n"
     ]
    }
   ],
   "source": [
    "df = pd.DataFrame({\n",
    "    'text_code': ['t0001.','t0002','t0003', 't0004'],\n",
    "    'text_lang': ['She livedd a long life.', 'How oold is your father?', 'What is tthe problem?','TThhis desk is used by Tom.']\n",
    "    })\n",
    "print(\"Original DataFrame:\")\n",
    "print(df)"
   ]
  },
  {
   "cell_type": "markdown",
   "id": "839e3452-b310-4e8a-9177-a8b556758b5a",
   "metadata": {},
   "source": [
    "33. Write a Pandas program to extract numbers greater than 940 from the specified column of a given DataFrame."
   ]
  },
  {
   "cell_type": "code",
   "execution_count": null,
   "id": "ed0b68b1-1b21-43ed-9e75-fe3da928a67e",
   "metadata": {},
   "outputs": [],
   "source": []
  },
  {
   "cell_type": "markdown",
   "id": "320d8e34-993f-41a7-adbd-6753fe224f39",
   "metadata": {},
   "source": [
    "34. Write a Pandas program to extract numbers less than 100 from the specified column of a given DataFrame."
   ]
  },
  {
   "cell_type": "code",
   "execution_count": null,
   "id": "3fa8fb2d-7caa-41e2-8d9e-6c79ba869b76",
   "metadata": {},
   "outputs": [],
   "source": []
  },
  {
   "cell_type": "markdown",
   "id": "0675df7c-d426-4cf0-8ec0-6f1562187cae",
   "metadata": {},
   "source": [
    "35. Write a Pandas program to check whether two given words present in a specified column of a given DataFrame."
   ]
  },
  {
   "cell_type": "code",
   "execution_count": null,
   "id": "1ccd0a20-01f7-4469-9a4d-e71e5a8f05cc",
   "metadata": {},
   "outputs": [],
   "source": []
  },
  {
   "cell_type": "markdown",
   "id": "51d07c07-5f2d-42d9-8122-82fdf2622dec",
   "metadata": {},
   "source": [
    "36. Write a Pandas program to extract date (format: mm-dd-yyyy) from a given column of a given DataFrame."
   ]
  },
  {
   "cell_type": "code",
   "execution_count": null,
   "id": "1060850e-f93a-4688-b20d-2f2dbd6a2416",
   "metadata": {},
   "outputs": [],
   "source": []
  },
  {
   "cell_type": "markdown",
   "id": "985a91c4-be9e-4b2c-89ea-ea5e2e6969cf",
   "metadata": {},
   "source": [
    "37. Write a Pandas program to extract only words from a given column of a given DataFrame."
   ]
  },
  {
   "cell_type": "code",
   "execution_count": null,
   "id": "99def965-ae4e-471e-9891-cda24243689b",
   "metadata": {},
   "outputs": [],
   "source": []
  },
  {
   "cell_type": "markdown",
   "id": "7333a1b3-ec1d-4481-befd-e42dc747390e",
   "metadata": {},
   "source": [
    "38. Write a Pandas program to extract the sentences where a specific word is present in a given column of a given DataFrame."
   ]
  },
  {
   "cell_type": "code",
   "execution_count": null,
   "id": "9937b0a2-f8d4-441d-86ab-e2a11a6dc573",
   "metadata": {},
   "outputs": [],
   "source": []
  },
  {
   "cell_type": "markdown",
   "id": "020a7865-0c28-44fe-b5c1-ac97616d229f",
   "metadata": {},
   "source": [
    "39. Write a Pandas program to extract the unique sentences from a given column of a given DataFrame."
   ]
  },
  {
   "cell_type": "code",
   "execution_count": null,
   "id": "16f3a1b7-eb3f-4fe6-99bb-a9f8b74fde6f",
   "metadata": {},
   "outputs": [],
   "source": []
  },
  {
   "cell_type": "markdown",
   "id": "8a657308-89ac-49d0-9862-64b2bbdeef80",
   "metadata": {},
   "source": [
    "40. Write a Pandas program to extract words starting with capital words from a given column of a given DataFrame."
   ]
  },
  {
   "cell_type": "code",
   "execution_count": null,
   "id": "7a51ecaa-eb39-4bb4-a98e-b9e4b21aac66",
   "metadata": {},
   "outputs": [],
   "source": []
  },
  {
   "cell_type": "markdown",
   "id": "9c9ddfcb-b6f7-4adf-b29f-20b1eff7564a",
   "metadata": {},
   "source": [
    "41. Write a Pandas program to remove the html tags within the specified column of a given DataFrame."
   ]
  },
  {
   "cell_type": "code",
   "execution_count": null,
   "id": "74bb3177-3a1c-4bae-bf14-f90ca6425ac4",
   "metadata": {},
   "outputs": [],
   "source": []
  }
 ],
 "metadata": {
  "kernelspec": {
   "display_name": "Python 3 (ipykernel)",
   "language": "python",
   "name": "python3"
  },
  "language_info": {
   "codemirror_mode": {
    "name": "ipython",
    "version": 3
   },
   "file_extension": ".py",
   "mimetype": "text/x-python",
   "name": "python",
   "nbconvert_exporter": "python",
   "pygments_lexer": "ipython3",
   "version": "3.11.5"
  }
 },
 "nbformat": 4,
 "nbformat_minor": 5
}
